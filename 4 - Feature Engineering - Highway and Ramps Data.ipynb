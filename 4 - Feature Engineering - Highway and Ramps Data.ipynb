{
 "cells": [
  {
   "cell_type": "markdown",
   "metadata": {},
   "source": [
    "# Singapore Public Housing (HDB) Resale Price Prediction Model (Part 4)\n",
    "### Feature Engineering - Highway and Ramps Data"
   ]
  },
  {
   "cell_type": "markdown",
   "metadata": {},
   "source": [
    "## 1. Initialization"
   ]
  },
  {
   "cell_type": "code",
   "execution_count": 1,
   "metadata": {},
   "outputs": [],
   "source": [
    "# Import JSON-related Libraries\n",
    "import json\n",
    "import geojson as gpd\n",
    "from bs4 import BeautifulSoup"
   ]
  },
  {
   "cell_type": "code",
   "execution_count": 2,
   "metadata": {},
   "outputs": [],
   "source": [
    "with open(\"./Dataset/Raw/national_map_line.geojson\", 'r') as f:\n",
    "    data = json.load(f)"
   ]
  },
  {
   "cell_type": "code",
   "execution_count": 3,
   "metadata": {},
   "outputs": [
    {
     "data": {
      "text/plain": [
       "{'Layers/Contour_250K',\n",
       " 'Layers/Expressway',\n",
       " 'Layers/Expressway_Sliproad',\n",
       " 'Layers/International_bdy',\n",
       " 'Layers/Major_Road'}"
      ]
     },
     "execution_count": 3,
     "metadata": {},
     "output_type": "execute_result"
    }
   ],
   "source": [
    "road_types = set()\n",
    "\n",
    "for polygon in data['features']:\n",
    "    string = polygon['properties']['Description']\n",
    "    road_type = BeautifulSoup(string, 'lxml').find_all(\"td\")[1].text\n",
    "    road_types.add(road_type)\n",
    "    \n",
    "road_types"
   ]
  },
  {
   "cell_type": "markdown",
   "metadata": {},
   "source": [
    "## 2. Highways"
   ]
  },
  {
   "cell_type": "code",
   "execution_count": 4,
   "metadata": {},
   "outputs": [],
   "source": [
    "highways = []\n",
    "for polygon in data['features']:\n",
    "    string = polygon['properties']['Description']\n",
    "    road_type = BeautifulSoup(string, 'lxml').find_all(\"td\")[1].text\n",
    "    if road_type == \"Layers/Expressway\":\n",
    "        highways.append(polygon)"
   ]
  },
  {
   "cell_type": "code",
   "execution_count": 5,
   "metadata": {},
   "outputs": [],
   "source": [
    "highway_json = data\n",
    "highway_json['features'] = highways"
   ]
  },
  {
   "cell_type": "code",
   "execution_count": 6,
   "metadata": {},
   "outputs": [],
   "source": [
    "with open(\"./Dataset/Spatial/highway_geojson.geojson\", 'w') as f:\n",
    "    json.dump(highway_json, f)"
   ]
  },
  {
   "cell_type": "code",
   "execution_count": 7,
   "metadata": {},
   "outputs": [],
   "source": [
    "# ### ---      KNOWN DEPENDENCIES ISSUE      --- ###\n",
    "# ### ---  CODES TO EXPORT FOR GOOGLE COLAB  --- ###\n",
    "# ### ---     UNCOMMENT TO TEST THE CODE     --- ###\n",
    "\n",
    "# highways = gpd.read_file('./Dataset/Spatial/highway_geojson.geojson')\n",
    "# highways['Description'] = [BeautifulSoup(name, 'lxml').find('td').text for name in list(highways['Description'])]\n",
    "# highways.to_csv('./Dataset/Spatial/Highways.csv', index=False)"
   ]
  },
  {
   "cell_type": "markdown",
   "metadata": {},
   "source": [
    "## 3. Highway Exits/Ramps"
   ]
  },
  {
   "cell_type": "code",
   "execution_count": 8,
   "metadata": {},
   "outputs": [],
   "source": [
    "ramps = []\n",
    "for polygon in data['features']:\n",
    "    string = polygon['properties']['Description']\n",
    "    road_type = BeautifulSoup(string, 'lxml').find_all(\"td\")[1].text\n",
    "    if road_type == \"Layers/Expressway_Sliproad\":\n",
    "        ramps.append(polygon)"
   ]
  },
  {
   "cell_type": "code",
   "execution_count": 9,
   "metadata": {},
   "outputs": [],
   "source": [
    "ramp_json = data\n",
    "ramp_json['features'] = ramps"
   ]
  },
  {
   "cell_type": "code",
   "execution_count": 10,
   "metadata": {},
   "outputs": [],
   "source": [
    "with open(\"./Dataset/Spatial/ramp_geojson.geojson\", 'w') as f:\n",
    "    json.dump(ramp_json, f)"
   ]
  },
  {
   "cell_type": "code",
   "execution_count": 11,
   "metadata": {},
   "outputs": [],
   "source": [
    "# ### ---      KNOWN DEPENDENCIES ISSUE      --- ###\n",
    "# ### ---  CODES TO EXPORT FOR GOOGLE COLAB  --- ###\n",
    "# ### ---     UNCOMMENT TO TEST THE CODE     --- ###\n",
    "\n",
    "# ramps = gpd.read_file('./Dataset/Spatial/ramp_geojson.geojson')\n",
    "# ramps['Description'] = [BeautifulSoup(name, 'lxml').find('td').text for name in list(ramps['Description'])]\n",
    "# ramps.to_csv('./Dataset/Spatial/Ramps.csv', index=False)"
   ]
  }
 ],
 "metadata": {
  "kernelspec": {
   "display_name": "Python 3",
   "language": "python",
   "name": "python3"
  },
  "language_info": {
   "codemirror_mode": {
    "name": "ipython",
    "version": 3
   },
   "file_extension": ".py",
   "mimetype": "text/x-python",
   "name": "python",
   "nbconvert_exporter": "python",
   "pygments_lexer": "ipython3",
   "version": "3.7.4"
  }
 },
 "nbformat": 4,
 "nbformat_minor": 4
}
