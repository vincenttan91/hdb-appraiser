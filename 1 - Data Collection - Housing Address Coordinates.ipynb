{
 "cells": [
  {
   "cell_type": "markdown",
   "metadata": {},
   "source": [
    "# Singapore Public Housing (HDB) Resale Price Prediction Model (Part 1)\n",
    "### Data Collection - Housing Address Coordinates"
   ]
  },
  {
   "cell_type": "markdown",
   "metadata": {},
   "source": [
    "## 1. Initialization"
   ]
  },
  {
   "cell_type": "code",
   "execution_count": 1,
   "metadata": {},
   "outputs": [],
   "source": [
    "# Import Vanilla Libraries\n",
    "import requests, json, time, random, math\n",
    "import pandas as pd\n",
    "import numpy as np"
   ]
  },
  {
   "cell_type": "code",
   "execution_count": 2,
   "metadata": {},
   "outputs": [],
   "source": [
    "# Read property dataset as dataframe\n",
    "hdb = pd.read_csv('./Dataset/Raw/hdb_2017_2020.csv')"
   ]
  },
  {
   "cell_type": "code",
   "execution_count": 3,
   "metadata": {},
   "outputs": [
    {
     "data": {
      "text/html": [
       "<div>\n",
       "<style scoped>\n",
       "    .dataframe tbody tr th:only-of-type {\n",
       "        vertical-align: middle;\n",
       "    }\n",
       "\n",
       "    .dataframe tbody tr th {\n",
       "        vertical-align: top;\n",
       "    }\n",
       "\n",
       "    .dataframe thead th {\n",
       "        text-align: right;\n",
       "    }\n",
       "</style>\n",
       "<table border=\"1\" class=\"dataframe\">\n",
       "  <thead>\n",
       "    <tr style=\"text-align: right;\">\n",
       "      <th></th>\n",
       "      <th>month</th>\n",
       "      <th>town</th>\n",
       "      <th>flat_type</th>\n",
       "      <th>block</th>\n",
       "      <th>street_name</th>\n",
       "      <th>storey_range</th>\n",
       "      <th>floor_area_sqm</th>\n",
       "      <th>flat_model</th>\n",
       "      <th>lease_commence_date</th>\n",
       "      <th>remaining_lease</th>\n",
       "      <th>resale_price</th>\n",
       "    </tr>\n",
       "  </thead>\n",
       "  <tbody>\n",
       "    <tr>\n",
       "      <th>0</th>\n",
       "      <td>2017-01</td>\n",
       "      <td>ANG MO KIO</td>\n",
       "      <td>2 ROOM</td>\n",
       "      <td>406</td>\n",
       "      <td>ANG MO KIO AVE 10</td>\n",
       "      <td>10 TO 12</td>\n",
       "      <td>44.0</td>\n",
       "      <td>Improved</td>\n",
       "      <td>1979</td>\n",
       "      <td>61 years 04 months</td>\n",
       "      <td>232000.0</td>\n",
       "    </tr>\n",
       "    <tr>\n",
       "      <th>1</th>\n",
       "      <td>2017-01</td>\n",
       "      <td>ANG MO KIO</td>\n",
       "      <td>3 ROOM</td>\n",
       "      <td>108</td>\n",
       "      <td>ANG MO KIO AVE 4</td>\n",
       "      <td>01 TO 03</td>\n",
       "      <td>67.0</td>\n",
       "      <td>New Generation</td>\n",
       "      <td>1978</td>\n",
       "      <td>60 years 07 months</td>\n",
       "      <td>250000.0</td>\n",
       "    </tr>\n",
       "    <tr>\n",
       "      <th>2</th>\n",
       "      <td>2017-01</td>\n",
       "      <td>ANG MO KIO</td>\n",
       "      <td>3 ROOM</td>\n",
       "      <td>602</td>\n",
       "      <td>ANG MO KIO AVE 5</td>\n",
       "      <td>01 TO 03</td>\n",
       "      <td>67.0</td>\n",
       "      <td>New Generation</td>\n",
       "      <td>1980</td>\n",
       "      <td>62 years 05 months</td>\n",
       "      <td>262000.0</td>\n",
       "    </tr>\n",
       "    <tr>\n",
       "      <th>3</th>\n",
       "      <td>2017-01</td>\n",
       "      <td>ANG MO KIO</td>\n",
       "      <td>3 ROOM</td>\n",
       "      <td>465</td>\n",
       "      <td>ANG MO KIO AVE 10</td>\n",
       "      <td>04 TO 06</td>\n",
       "      <td>68.0</td>\n",
       "      <td>New Generation</td>\n",
       "      <td>1980</td>\n",
       "      <td>62 years 01 month</td>\n",
       "      <td>265000.0</td>\n",
       "    </tr>\n",
       "    <tr>\n",
       "      <th>4</th>\n",
       "      <td>2017-01</td>\n",
       "      <td>ANG MO KIO</td>\n",
       "      <td>3 ROOM</td>\n",
       "      <td>601</td>\n",
       "      <td>ANG MO KIO AVE 5</td>\n",
       "      <td>01 TO 03</td>\n",
       "      <td>67.0</td>\n",
       "      <td>New Generation</td>\n",
       "      <td>1980</td>\n",
       "      <td>62 years 05 months</td>\n",
       "      <td>265000.0</td>\n",
       "    </tr>\n",
       "  </tbody>\n",
       "</table>\n",
       "</div>"
      ],
      "text/plain": [
       "     month        town flat_type block        street_name storey_range  \\\n",
       "0  2017-01  ANG MO KIO    2 ROOM   406  ANG MO KIO AVE 10     10 TO 12   \n",
       "1  2017-01  ANG MO KIO    3 ROOM   108   ANG MO KIO AVE 4     01 TO 03   \n",
       "2  2017-01  ANG MO KIO    3 ROOM   602   ANG MO KIO AVE 5     01 TO 03   \n",
       "3  2017-01  ANG MO KIO    3 ROOM   465  ANG MO KIO AVE 10     04 TO 06   \n",
       "4  2017-01  ANG MO KIO    3 ROOM   601   ANG MO KIO AVE 5     01 TO 03   \n",
       "\n",
       "   floor_area_sqm      flat_model  lease_commence_date     remaining_lease  \\\n",
       "0            44.0        Improved                 1979  61 years 04 months   \n",
       "1            67.0  New Generation                 1978  60 years 07 months   \n",
       "2            67.0  New Generation                 1980  62 years 05 months   \n",
       "3            68.0  New Generation                 1980   62 years 01 month   \n",
       "4            67.0  New Generation                 1980  62 years 05 months   \n",
       "\n",
       "   resale_price  \n",
       "0      232000.0  \n",
       "1      250000.0  \n",
       "2      262000.0  \n",
       "3      265000.0  \n",
       "4      265000.0  "
      ]
     },
     "execution_count": 3,
     "metadata": {},
     "output_type": "execute_result"
    }
   ],
   "source": [
    "hdb.head()"
   ]
  },
  {
   "cell_type": "markdown",
   "metadata": {},
   "source": [
    "## 2. Feature Engineering"
   ]
  },
  {
   "cell_type": "markdown",
   "metadata": {},
   "source": [
    "### 2.1 Date Time Data"
   ]
  },
  {
   "cell_type": "code",
   "execution_count": 4,
   "metadata": {},
   "outputs": [],
   "source": [
    "# Extract Month and Year from 'month' column\n",
    "hdb['sold_year'] = hdb['month'].str[:4].astype(int)\n",
    "hdb['sold_month'] = hdb['month'].str[-2:].astype(int)"
   ]
  },
  {
   "cell_type": "code",
   "execution_count": 5,
   "metadata": {},
   "outputs": [],
   "source": [
    "# Function to convert 'remaining lease' to numerical column\n",
    "def extract_lease_years(row):\n",
    "    if len(row)==4:\n",
    "        return round(int(row[0]) + int(row[2])/12, 2)\n",
    "    else:\n",
    "        return int(row[0])"
   ]
  },
  {
   "cell_type": "code",
   "execution_count": 6,
   "metadata": {},
   "outputs": [],
   "source": [
    "# Apply function to 'remaining lease'\n",
    "hdb['remaining_lease'] = hdb['remaining_lease'].str.split().apply(extract_lease_years)"
   ]
  },
  {
   "cell_type": "code",
   "execution_count": 7,
   "metadata": {},
   "outputs": [
    {
     "data": {
      "text/html": [
       "<div>\n",
       "<style scoped>\n",
       "    .dataframe tbody tr th:only-of-type {\n",
       "        vertical-align: middle;\n",
       "    }\n",
       "\n",
       "    .dataframe tbody tr th {\n",
       "        vertical-align: top;\n",
       "    }\n",
       "\n",
       "    .dataframe thead th {\n",
       "        text-align: right;\n",
       "    }\n",
       "</style>\n",
       "<table border=\"1\" class=\"dataframe\">\n",
       "  <thead>\n",
       "    <tr style=\"text-align: right;\">\n",
       "      <th></th>\n",
       "      <th>month</th>\n",
       "      <th>town</th>\n",
       "      <th>flat_type</th>\n",
       "      <th>block</th>\n",
       "      <th>street_name</th>\n",
       "      <th>storey_range</th>\n",
       "      <th>floor_area_sqm</th>\n",
       "      <th>flat_model</th>\n",
       "      <th>lease_commence_date</th>\n",
       "      <th>remaining_lease</th>\n",
       "      <th>resale_price</th>\n",
       "      <th>sold_year</th>\n",
       "      <th>sold_month</th>\n",
       "    </tr>\n",
       "  </thead>\n",
       "  <tbody>\n",
       "    <tr>\n",
       "      <th>9065</th>\n",
       "      <td>2017-06</td>\n",
       "      <td>PUNGGOL</td>\n",
       "      <td>5 ROOM</td>\n",
       "      <td>289C</td>\n",
       "      <td>PUNGGOL PL</td>\n",
       "      <td>13 TO 15</td>\n",
       "      <td>112.0</td>\n",
       "      <td>Premium Apartment</td>\n",
       "      <td>2013</td>\n",
       "      <td>94.75</td>\n",
       "      <td>600000.0</td>\n",
       "      <td>2017</td>\n",
       "      <td>6</td>\n",
       "    </tr>\n",
       "    <tr>\n",
       "      <th>7692</th>\n",
       "      <td>2017-05</td>\n",
       "      <td>TOA PAYOH</td>\n",
       "      <td>5 ROOM</td>\n",
       "      <td>10</td>\n",
       "      <td>JOO SENG RD</td>\n",
       "      <td>16 TO 18</td>\n",
       "      <td>119.0</td>\n",
       "      <td>Improved</td>\n",
       "      <td>1983</td>\n",
       "      <td>64.92</td>\n",
       "      <td>572888.0</td>\n",
       "      <td>2017</td>\n",
       "      <td>5</td>\n",
       "    </tr>\n",
       "    <tr>\n",
       "      <th>8622</th>\n",
       "      <td>2017-06</td>\n",
       "      <td>HOUGANG</td>\n",
       "      <td>4 ROOM</td>\n",
       "      <td>514</td>\n",
       "      <td>HOUGANG AVE 10</td>\n",
       "      <td>01 TO 03</td>\n",
       "      <td>89.0</td>\n",
       "      <td>Simplified</td>\n",
       "      <td>1986</td>\n",
       "      <td>67.67</td>\n",
       "      <td>390000.0</td>\n",
       "      <td>2017</td>\n",
       "      <td>6</td>\n",
       "    </tr>\n",
       "    <tr>\n",
       "      <th>27893</th>\n",
       "      <td>2018-05</td>\n",
       "      <td>TAMPINES</td>\n",
       "      <td>5 ROOM</td>\n",
       "      <td>126</td>\n",
       "      <td>TAMPINES ST 11</td>\n",
       "      <td>10 TO 12</td>\n",
       "      <td>140.0</td>\n",
       "      <td>Model A</td>\n",
       "      <td>1985</td>\n",
       "      <td>66.42</td>\n",
       "      <td>580000.0</td>\n",
       "      <td>2018</td>\n",
       "      <td>5</td>\n",
       "    </tr>\n",
       "    <tr>\n",
       "      <th>31325</th>\n",
       "      <td>2018-07</td>\n",
       "      <td>JURONG WEST</td>\n",
       "      <td>5 ROOM</td>\n",
       "      <td>351</td>\n",
       "      <td>CORPORATION DR</td>\n",
       "      <td>07 TO 09</td>\n",
       "      <td>121.0</td>\n",
       "      <td>Improved</td>\n",
       "      <td>1997</td>\n",
       "      <td>78.50</td>\n",
       "      <td>450000.0</td>\n",
       "      <td>2018</td>\n",
       "      <td>7</td>\n",
       "    </tr>\n",
       "  </tbody>\n",
       "</table>\n",
       "</div>"
      ],
      "text/plain": [
       "         month         town flat_type block     street_name storey_range  \\\n",
       "9065   2017-06      PUNGGOL    5 ROOM  289C      PUNGGOL PL     13 TO 15   \n",
       "7692   2017-05    TOA PAYOH    5 ROOM    10     JOO SENG RD     16 TO 18   \n",
       "8622   2017-06      HOUGANG    4 ROOM   514  HOUGANG AVE 10     01 TO 03   \n",
       "27893  2018-05     TAMPINES    5 ROOM   126  TAMPINES ST 11     10 TO 12   \n",
       "31325  2018-07  JURONG WEST    5 ROOM   351  CORPORATION DR     07 TO 09   \n",
       "\n",
       "       floor_area_sqm         flat_model  lease_commence_date  \\\n",
       "9065            112.0  Premium Apartment                 2013   \n",
       "7692            119.0           Improved                 1983   \n",
       "8622             89.0         Simplified                 1986   \n",
       "27893           140.0            Model A                 1985   \n",
       "31325           121.0           Improved                 1997   \n",
       "\n",
       "       remaining_lease  resale_price  sold_year  sold_month  \n",
       "9065             94.75      600000.0       2017           6  \n",
       "7692             64.92      572888.0       2017           5  \n",
       "8622             67.67      390000.0       2017           6  \n",
       "27893            66.42      580000.0       2018           5  \n",
       "31325            78.50      450000.0       2018           7  "
      ]
     },
     "execution_count": 7,
     "metadata": {},
     "output_type": "execute_result"
    }
   ],
   "source": [
    "hdb.sample(5)"
   ]
  },
  {
   "cell_type": "code",
   "execution_count": 8,
   "metadata": {},
   "outputs": [],
   "source": [
    "# Concatenate block number and street name to form full address for API Calls\n",
    "hdb['address'] = hdb['block'] + ' ' + hdb['street_name']"
   ]
  },
  {
   "cell_type": "code",
   "execution_count": 9,
   "metadata": {},
   "outputs": [],
   "source": [
    "# Drop all the pre-engineered column\n",
    "hdb.drop(['month', 'block', 'street_name'], axis=1, inplace=True)"
   ]
  },
  {
   "cell_type": "markdown",
   "metadata": {},
   "source": [
    "### 2.2 Storey Range"
   ]
  },
  {
   "cell_type": "code",
   "execution_count": 10,
   "metadata": {},
   "outputs": [
    {
     "data": {
      "text/plain": [
       "array(['10 TO 12', '01 TO 03', '04 TO 06', '07 TO 09', '13 TO 15',\n",
       "       '19 TO 21', '22 TO 24', '16 TO 18', '34 TO 36', '28 TO 30',\n",
       "       '37 TO 39', '49 TO 51', '25 TO 27', '40 TO 42', '31 TO 33',\n",
       "       '46 TO 48', '43 TO 45'], dtype=object)"
      ]
     },
     "execution_count": 10,
     "metadata": {},
     "output_type": "execute_result"
    }
   ],
   "source": [
    "# Check on storey range\n",
    "hdb.storey_range.unique()"
   ]
  },
  {
   "cell_type": "code",
   "execution_count": 11,
   "metadata": {},
   "outputs": [],
   "source": [
    "# Convert 'storey_range' into numerical by taking the midpoint of each range\n",
    "hdb.storey_range = (hdb.storey_range.str[:2].astype(int) + hdb.storey_range.str[-2:].astype(int))\n",
    "hdb.storey_range = (hdb.storey_range/2).astype(int)"
   ]
  },
  {
   "cell_type": "code",
   "execution_count": 12,
   "metadata": {},
   "outputs": [
    {
     "data": {
      "text/html": [
       "<div>\n",
       "<style scoped>\n",
       "    .dataframe tbody tr th:only-of-type {\n",
       "        vertical-align: middle;\n",
       "    }\n",
       "\n",
       "    .dataframe tbody tr th {\n",
       "        vertical-align: top;\n",
       "    }\n",
       "\n",
       "    .dataframe thead th {\n",
       "        text-align: right;\n",
       "    }\n",
       "</style>\n",
       "<table border=\"1\" class=\"dataframe\">\n",
       "  <thead>\n",
       "    <tr style=\"text-align: right;\">\n",
       "      <th></th>\n",
       "      <th>town</th>\n",
       "      <th>flat_type</th>\n",
       "      <th>storey_range</th>\n",
       "      <th>floor_area_sqm</th>\n",
       "      <th>flat_model</th>\n",
       "      <th>lease_commence_date</th>\n",
       "      <th>remaining_lease</th>\n",
       "      <th>resale_price</th>\n",
       "      <th>sold_year</th>\n",
       "      <th>sold_month</th>\n",
       "      <th>address</th>\n",
       "    </tr>\n",
       "  </thead>\n",
       "  <tbody>\n",
       "    <tr>\n",
       "      <th>0</th>\n",
       "      <td>ANG MO KIO</td>\n",
       "      <td>2 ROOM</td>\n",
       "      <td>11</td>\n",
       "      <td>44.0</td>\n",
       "      <td>Improved</td>\n",
       "      <td>1979</td>\n",
       "      <td>61.33</td>\n",
       "      <td>232000.0</td>\n",
       "      <td>2017</td>\n",
       "      <td>1</td>\n",
       "      <td>406 ANG MO KIO AVE 10</td>\n",
       "    </tr>\n",
       "    <tr>\n",
       "      <th>1</th>\n",
       "      <td>ANG MO KIO</td>\n",
       "      <td>3 ROOM</td>\n",
       "      <td>2</td>\n",
       "      <td>67.0</td>\n",
       "      <td>New Generation</td>\n",
       "      <td>1978</td>\n",
       "      <td>60.58</td>\n",
       "      <td>250000.0</td>\n",
       "      <td>2017</td>\n",
       "      <td>1</td>\n",
       "      <td>108 ANG MO KIO AVE 4</td>\n",
       "    </tr>\n",
       "    <tr>\n",
       "      <th>2</th>\n",
       "      <td>ANG MO KIO</td>\n",
       "      <td>3 ROOM</td>\n",
       "      <td>2</td>\n",
       "      <td>67.0</td>\n",
       "      <td>New Generation</td>\n",
       "      <td>1980</td>\n",
       "      <td>62.42</td>\n",
       "      <td>262000.0</td>\n",
       "      <td>2017</td>\n",
       "      <td>1</td>\n",
       "      <td>602 ANG MO KIO AVE 5</td>\n",
       "    </tr>\n",
       "    <tr>\n",
       "      <th>3</th>\n",
       "      <td>ANG MO KIO</td>\n",
       "      <td>3 ROOM</td>\n",
       "      <td>5</td>\n",
       "      <td>68.0</td>\n",
       "      <td>New Generation</td>\n",
       "      <td>1980</td>\n",
       "      <td>62.08</td>\n",
       "      <td>265000.0</td>\n",
       "      <td>2017</td>\n",
       "      <td>1</td>\n",
       "      <td>465 ANG MO KIO AVE 10</td>\n",
       "    </tr>\n",
       "    <tr>\n",
       "      <th>4</th>\n",
       "      <td>ANG MO KIO</td>\n",
       "      <td>3 ROOM</td>\n",
       "      <td>2</td>\n",
       "      <td>67.0</td>\n",
       "      <td>New Generation</td>\n",
       "      <td>1980</td>\n",
       "      <td>62.42</td>\n",
       "      <td>265000.0</td>\n",
       "      <td>2017</td>\n",
       "      <td>1</td>\n",
       "      <td>601 ANG MO KIO AVE 5</td>\n",
       "    </tr>\n",
       "  </tbody>\n",
       "</table>\n",
       "</div>"
      ],
      "text/plain": [
       "         town flat_type  storey_range  floor_area_sqm      flat_model  \\\n",
       "0  ANG MO KIO    2 ROOM            11            44.0        Improved   \n",
       "1  ANG MO KIO    3 ROOM             2            67.0  New Generation   \n",
       "2  ANG MO KIO    3 ROOM             2            67.0  New Generation   \n",
       "3  ANG MO KIO    3 ROOM             5            68.0  New Generation   \n",
       "4  ANG MO KIO    3 ROOM             2            67.0  New Generation   \n",
       "\n",
       "   lease_commence_date  remaining_lease  resale_price  sold_year  sold_month  \\\n",
       "0                 1979            61.33      232000.0       2017           1   \n",
       "1                 1978            60.58      250000.0       2017           1   \n",
       "2                 1980            62.42      262000.0       2017           1   \n",
       "3                 1980            62.08      265000.0       2017           1   \n",
       "4                 1980            62.42      265000.0       2017           1   \n",
       "\n",
       "                 address  \n",
       "0  406 ANG MO KIO AVE 10  \n",
       "1   108 ANG MO KIO AVE 4  \n",
       "2   602 ANG MO KIO AVE 5  \n",
       "3  465 ANG MO KIO AVE 10  \n",
       "4   601 ANG MO KIO AVE 5  "
      ]
     },
     "execution_count": 12,
     "metadata": {},
     "output_type": "execute_result"
    }
   ],
   "source": [
    "# Sanity check\n",
    "hdb.head()"
   ]
  },
  {
   "cell_type": "markdown",
   "metadata": {},
   "source": [
    "### 2.3 Coordinates"
   ]
  },
  {
   "cell_type": "markdown",
   "metadata": {},
   "source": [
    "#### 2.3.1 OneMap API Calling"
   ]
  },
  {
   "cell_type": "code",
   "execution_count": 13,
   "metadata": {
    "scrolled": false
   },
   "outputs": [],
   "source": [
    "unique_add = pd.Series(hdb['address'].unique())"
   ]
  },
  {
   "cell_type": "code",
   "execution_count": 14,
   "metadata": {},
   "outputs": [],
   "source": [
    "unique_add = pd.DataFrame(unique_add, columns=[\"address\"])"
   ]
  },
  {
   "cell_type": "code",
   "execution_count": 15,
   "metadata": {},
   "outputs": [
    {
     "name": "stdout",
     "output_type": "stream",
     "text": [
      "Waiting... (666A YISHUN AVE 4)... 0 addresses remaining... . . ... ..."
     ]
    }
   ],
   "source": [
    "# Extract coordinates from OneMap API by sending full address of each block\n",
    "latitude = []\n",
    "longitude = []\n",
    "\n",
    "if 'latitude' not in unique_add.columns:\n",
    "    unique_add['latitude'] = np.nan\n",
    "    unique_add['longitude'] = np.nan\n",
    "\n",
    "for i, address in enumerate(unique_add['address']):\n",
    "    if math.isnan(unique_add.loc[i, 'latitude']):\n",
    "        try:\n",
    "            print('\\rWaiting... ({})... {} addresses remaining... '.format(address, len(unique_add)-i-1), end='.')\n",
    "            query = \"https://developers.onemap.sg/commonapi/search?searchVal=\" + address + \"&returnGeom=Y&getAddrDetails=N\"\n",
    "            response = requests.get(query)\n",
    "            coor_json = json.loads(response.content)\n",
    "            unique_add.loc[i, 'latitude'] = coor_json['results'][0]['LATITUDE']\n",
    "            unique_add.loc[i, 'longitude'] = coor_json['results'][0]['LONGITUDE']\n",
    "\n",
    "        except:\n",
    "            unique_add.loc[i, 'latitude'] = np.nan\n",
    "            unique_add.loc[i, 'longitude'] = np.nan\n",
    "\n",
    "        # Export dataframe every loop to csv for inspection\n",
    "        unique_add.to_csv('./Dataset/Transitional/unique_address.csv', index=False)\n",
    "\n",
    "        # Sleeping time to avoid overloading server\n",
    "        time.sleep(random.randint(1,2)/4)\n",
    "\n",
    "if unique_add['latitude'].isnull().sum() == 0:\n",
    "    print(\"--- Data is complete ---\")"
   ]
  },
  {
   "cell_type": "markdown",
   "metadata": {},
   "source": [
    "#### 2.3.2 Addressing Missing Data"
   ]
  },
  {
   "cell_type": "code",
   "execution_count": 16,
   "metadata": {},
   "outputs": [
    {
     "data": {
      "text/plain": [
       "array([\"3 ST. GEORGE'S RD\", \"21 ST. GEORGE'S RD\", \"11 ST. GEORGE'S RD\",\n",
       "       \"8 ST. GEORGE'S LANE\", \"18 ST. GEORGE'S RD\", \"15 ST. GEORGE'S RD\",\n",
       "       \"9 ST. GEORGE'S RD\", \"4B ST. GEORGE'S LANE\", \"7 ST. GEORGE'S LANE\",\n",
       "       \"5 ST. GEORGE'S LANE\", \"22 ST. GEORGE'S RD\", \"20 ST. GEORGE'S RD\",\n",
       "       \"13 ST. GEORGE'S RD\", \"6 ST. GEORGE'S LANE\", \"2 ST. GEORGE'S RD\",\n",
       "       \"14 ST. GEORGE'S RD\", \"23 ST. GEORGE'S RD\", \"16 ST. GEORGE'S RD\",\n",
       "       \"1 ST. GEORGE'S RD\", \"10 ST. GEORGE'S RD\", \"17 ST. GEORGE'S RD\"],\n",
       "      dtype=object)"
      ]
     },
     "execution_count": 16,
     "metadata": {},
     "output_type": "execute_result"
    }
   ],
   "source": [
    "unique_add[unique_add['latitude'].isnull()]['address'].unique()"
   ]
  },
  {
   "cell_type": "code",
   "execution_count": 17,
   "metadata": {},
   "outputs": [],
   "source": [
    "missing_index = unique_add[unique_add['latitude'].isnull()].index"
   ]
  },
  {
   "cell_type": "code",
   "execution_count": 18,
   "metadata": {},
   "outputs": [],
   "source": [
    "unique_add.loc[missing_index, 'address'] = unique_add.loc[missing_index, 'address'].str.replace('ST.', 'SAINT')"
   ]
  },
  {
   "cell_type": "code",
   "execution_count": 19,
   "metadata": {},
   "outputs": [],
   "source": [
    "unique_add['latitude'] = unique_add['latitude'].astype(float)\n",
    "unique_add['longitude'] = unique_add['longitude'].astype(float)"
   ]
  },
  {
   "cell_type": "markdown",
   "metadata": {},
   "source": [
    "#### 2.3.3 Second Round API Calling"
   ]
  },
  {
   "cell_type": "code",
   "execution_count": 20,
   "metadata": {},
   "outputs": [
    {
     "name": "stdout",
     "output_type": "stream",
     "text": [
      "Waiting... (17 SAINT GEORGE'S RD)... 616 neighbourhood remaining... ....--- Data is complete ---\n"
     ]
    }
   ],
   "source": [
    "# Repassing dataframe for API Calling but only missing data is processed\n",
    "for i, lat in enumerate(unique_add.latitude):\n",
    "    \n",
    "    # Only if latitude is missing, fire up API calling query\n",
    "    if math.isnan(lat):\n",
    "        address = unique_add.loc[i, 'address']\n",
    "        try:\n",
    "            print('\\rWaiting... ({})... {} neighbourhood remaining... '.format(address, len(unique_add)-i-1), end='.')\n",
    "            query = \"https://developers.onemap.sg/commonapi/search?searchVal=\" + address + \"&returnGeom=Y&getAddrDetails=N\"\n",
    "            response = requests.get(query)\n",
    "            coor_json = json.loads(response.content)\n",
    "            unique_add.loc[i, 'latitude'] = coor_json['results'][0]['LATITUDE']\n",
    "            unique_add.loc[i, 'longitude'] = coor_json['results'][0]['LONGITUDE']\n",
    "            time.sleep(random.randint(1,2)/4)\n",
    "\n",
    "        except:\n",
    "            unique_add.loc[i, 'latitude'] = np.nan\n",
    "            unique_add.loc[i, 'longitude'] = np.nan\n",
    "            time.sleep(random.randint(1,2)/4)\n",
    "            \n",
    "unique_add.to_csv('./Dataset/Transitional/unique_address.csv', index=False)\n",
    "\n",
    "if unique_add['latitude'].isnull().sum() == 0:\n",
    "    print(\"--- Data is complete ---\")"
   ]
  },
  {
   "cell_type": "code",
   "execution_count": 21,
   "metadata": {},
   "outputs": [],
   "source": [
    "# Sanity check on missing data\n",
    "unique_add = pd.read_csv(\"./Dataset/Transitional/unique_address.csv\")"
   ]
  },
  {
   "cell_type": "code",
   "execution_count": 22,
   "metadata": {},
   "outputs": [
    {
     "data": {
      "text/plain": [
       "address      0\n",
       "latitude     0\n",
       "longitude    0\n",
       "dtype: int64"
      ]
     },
     "execution_count": 22,
     "metadata": {},
     "output_type": "execute_result"
    }
   ],
   "source": [
    "unique_add.isnull().sum()"
   ]
  },
  {
   "cell_type": "markdown",
   "metadata": {},
   "source": [
    "## 3. Final Data Export"
   ]
  },
  {
   "cell_type": "code",
   "execution_count": 24,
   "metadata": {},
   "outputs": [],
   "source": [
    "hdb = pd.merge(hdb, unique_add, how='left', on='address')"
   ]
  },
  {
   "cell_type": "code",
   "execution_count": 26,
   "metadata": {},
   "outputs": [],
   "source": [
    "# Export final dataframe to CSV\n",
    "hdb.to_csv('./Dataset/Transitional/complete_data.csv', index=False)"
   ]
  },
  {
   "cell_type": "code",
   "execution_count": 27,
   "metadata": {},
   "outputs": [
    {
     "data": {
      "text/plain": [
       "town                     0\n",
       "flat_type                0\n",
       "storey_range             0\n",
       "floor_area_sqm           0\n",
       "flat_model               0\n",
       "lease_commence_date      0\n",
       "remaining_lease          0\n",
       "resale_price             0\n",
       "sold_year                0\n",
       "sold_month               0\n",
       "address                  0\n",
       "latitude               164\n",
       "longitude              164\n",
       "dtype: int64"
      ]
     },
     "execution_count": 27,
     "metadata": {},
     "output_type": "execute_result"
    }
   ],
   "source": [
    "# Sanity check on the final dataframe\n",
    "hdb = pd.read_csv('./Dataset/Transitional/complete_data.csv')\n",
    "hdb.isnull().sum()"
   ]
  },
  {
   "cell_type": "code",
   "execution_count": 31,
   "metadata": {},
   "outputs": [],
   "source": [
    "missing_data = hdb[hdb['latitude'].isnull()].index\n",
    "hdb.loc[missing_data, 'address'] = hdb.loc[missing_data, 'address'].str.replace('ST.', 'SAINT')\n",
    "hdb = pd.merge(hdb, unique_add, how='left', on='address')"
   ]
  },
  {
   "cell_type": "code",
   "execution_count": 32,
   "metadata": {},
   "outputs": [
    {
     "data": {
      "text/plain": [
       "town                     0\n",
       "flat_type                0\n",
       "storey_range             0\n",
       "floor_area_sqm           0\n",
       "flat_model               0\n",
       "lease_commence_date      0\n",
       "remaining_lease          0\n",
       "resale_price             0\n",
       "sold_year                0\n",
       "sold_month               0\n",
       "address                  0\n",
       "latitude_x             164\n",
       "longitude_x            164\n",
       "latitude_y               0\n",
       "longitude_y              0\n",
       "dtype: int64"
      ]
     },
     "execution_count": 32,
     "metadata": {},
     "output_type": "execute_result"
    }
   ],
   "source": [
    "hdb.isnull().sum()"
   ]
  },
  {
   "cell_type": "code",
   "execution_count": 33,
   "metadata": {},
   "outputs": [],
   "source": [
    "hdb.drop(['latitude_x', 'longitude_x'], axis=1, inplace=True)\n",
    "hdb.rename(columns={'latitude_y': 'latitude', 'longitude_y': 'longitude'}, inplace=True)"
   ]
  },
  {
   "cell_type": "code",
   "execution_count": 37,
   "metadata": {},
   "outputs": [],
   "source": [
    "# Export final dataframe to CSV\n",
    "hdb.to_csv('./Dataset/Transitional/complete_data.csv', index=False)"
   ]
  }
 ],
 "metadata": {
  "kernelspec": {
   "display_name": "Python 3",
   "language": "python",
   "name": "python3"
  },
  "language_info": {
   "codemirror_mode": {
    "name": "ipython",
    "version": 3
   },
   "file_extension": ".py",
   "mimetype": "text/x-python",
   "name": "python",
   "nbconvert_exporter": "python",
   "pygments_lexer": "ipython3",
   "version": "3.7.4"
  }
 },
 "nbformat": 4,
 "nbformat_minor": 4
}
