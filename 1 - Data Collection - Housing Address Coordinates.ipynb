{
 "cells": [
  {
   "cell_type": "markdown",
   "metadata": {},
   "source": [
    "# Singapore Public Housing (HDB) Resale Price Prediction Model (Part 1)\n",
    "### Data Collection - Housing Address Coordinates"
   ]
  },
  {
   "cell_type": "markdown",
   "metadata": {},
   "source": [
    "## 1. Introduction"
   ]
  },
  {
   "cell_type": "markdown",
   "metadata": {},
   "source": [
    "In the late 19th century, American steel mogul Andrew Carnegie famously made a bold prediction that investment in real estate would be the wise way to multiply one's wealth. This statement has turned out to be relevent and agreeable to most of us 100 years later in the 21th century.\n",
    "\n",
    ">“Ninety percent of all millionaires become so through owning real estate. More money has been made in real estate than in all industrial investments combined. The wise young man or wage earner of today invests his money in real estate.” - Andrew Cargie \n",
    "\n",
    "According to Forbes rich list in 2018, out of the 22 billionaires in Singapore, 16 of them are real-estate tycoons. The total fortune came up to a staggering $43.7 billion, which grew up to nearly 10 percent from the previous year (Channel News Asia, 2018). We cannot deny that all the successful real-estate investors have had either natural talent or decade-trained experience in them to tell a good or bad property listing or development project apart. Nevertheless, it would be fascinating if we could unravel and quantify the investors' - or ordinary home-buyer - judgement with the help of Data Science. So we set out a journey to create a machine learning model that could benchmark a property pricing based on its attributes.\n",
    "\n",
    "In this project, we will develop a predictive model on HDB unit resale price using several machine learning techniques of different classes. We believe that a model like this would be very valuable for any real state agent or home-buyer to set a benchmark pricing to judge whether a property listing is over or under-valued.\n",
    "\n",
    "One thing worth noting is that HDB-developed flats are in a highly controlled environment by the Government to avoid market speculation on housing price. In fact, investment in these flats is technically prohibited as one could only own a maximum of one HDB flat. However, this situation does not render our study and model useless, simply because of the fact that this project still serve as a window to look into home buyer's psychology and how premium is justifiable by numerical features or attributes. So the same methodology could still be applied to Condominium sales in Singapore or real estates in City States that resembles Singapore where some of the key features could still be applicable and worth researching."
   ]
  },
  {
   "cell_type": "markdown",
   "metadata": {},
   "source": [
    "## 2. Problem Statement"
   ]
  },
  {
   "cell_type": "markdown",
   "metadata": {},
   "source": [
    "Singapore has always had one of the most expensive housing market in the world, so it becomes crucial for the locals to make sure every dollar they spent are worthwhile. However, most of the housing price are still benchmarked manually by experienced appraiser today. Hence, it would really be helpful for home buyer if there is a predictive model available to find out any undervalued property listing and maximize their savings."
   ]
  },
  {
   "cell_type": "markdown",
   "metadata": {},
   "source": [
    "## 3. About this Notebook"
   ]
  },
  {
   "cell_type": "markdown",
   "metadata": {},
   "source": [
    "The raw data for the project is hailing from the official Singapore Government portal, where the archive can be found in [this link](https://data.gov.sg/dataset/resale-flat-prices). It is transaction record for all resale public housing flat under the development and management of Housing Development Board (HDB) in Singapore. These flats are commonly known as \"HDB\" by the locals in the Singapore. \n",
    "\n",
    "The transaction data available range from 1990 to 2020, housing price has rose significantly through the last few decades and the property price inflation would not be well captured by the model without thorough research through public policies and global economic climate. Hence, the project will only encapsulated property sold from January 2017 to March 2020.\n",
    "\n",
    "The raw data has come with some basic information on the property attributes, such as the situated town, storey range, floor area, remaining lease and the resale price (the target variable). All HDB flats are bound by a standard 99-year lease before government has the right to seize the property for future development, so it is an important indicator of housing price in Singapore.\n",
    "\n",
    "In this notebook, we will clean up and transform the necessary raw data to its numerical format for the ease of modelling and visualization. Then, with the use of OneMap public API, we will submit each address and transform each data entries into their respective coordinates so that we can input more geospatial data in the later stage. "
   ]
  },
  {
   "cell_type": "markdown",
   "metadata": {},
   "source": [
    "## 4. Initialization"
   ]
  },
  {
   "cell_type": "code",
   "execution_count": 1,
   "metadata": {},
   "outputs": [],
   "source": [
    "# Import Vanilla Libraries\n",
    "import requests, json, time, random, math\n",
    "import pandas as pd\n",
    "import numpy as np"
   ]
  },
  {
   "cell_type": "code",
   "execution_count": 2,
   "metadata": {},
   "outputs": [],
   "source": [
    "# Read property dataset as dataframe\n",
    "hdb = pd.read_csv('./Dataset/Raw/hdb_2017_2020.csv')"
   ]
  },
  {
   "cell_type": "code",
   "execution_count": 3,
   "metadata": {
    "scrolled": true
   },
   "outputs": [
    {
     "data": {
      "text/html": [
       "<div>\n",
       "<style scoped>\n",
       "    .dataframe tbody tr th:only-of-type {\n",
       "        vertical-align: middle;\n",
       "    }\n",
       "\n",
       "    .dataframe tbody tr th {\n",
       "        vertical-align: top;\n",
       "    }\n",
       "\n",
       "    .dataframe thead th {\n",
       "        text-align: right;\n",
       "    }\n",
       "</style>\n",
       "<table border=\"1\" class=\"dataframe\">\n",
       "  <thead>\n",
       "    <tr style=\"text-align: right;\">\n",
       "      <th></th>\n",
       "      <th>month</th>\n",
       "      <th>town</th>\n",
       "      <th>flat_type</th>\n",
       "      <th>block</th>\n",
       "      <th>street_name</th>\n",
       "      <th>storey_range</th>\n",
       "      <th>floor_area_sqm</th>\n",
       "      <th>flat_model</th>\n",
       "      <th>lease_commence_date</th>\n",
       "      <th>remaining_lease</th>\n",
       "      <th>resale_price</th>\n",
       "    </tr>\n",
       "  </thead>\n",
       "  <tbody>\n",
       "    <tr>\n",
       "      <th>0</th>\n",
       "      <td>2017-01</td>\n",
       "      <td>ANG MO KIO</td>\n",
       "      <td>2 ROOM</td>\n",
       "      <td>406</td>\n",
       "      <td>ANG MO KIO AVE 10</td>\n",
       "      <td>10 TO 12</td>\n",
       "      <td>44.0</td>\n",
       "      <td>Improved</td>\n",
       "      <td>1979</td>\n",
       "      <td>61 years 04 months</td>\n",
       "      <td>232000.0</td>\n",
       "    </tr>\n",
       "    <tr>\n",
       "      <th>1</th>\n",
       "      <td>2017-01</td>\n",
       "      <td>ANG MO KIO</td>\n",
       "      <td>3 ROOM</td>\n",
       "      <td>108</td>\n",
       "      <td>ANG MO KIO AVE 4</td>\n",
       "      <td>01 TO 03</td>\n",
       "      <td>67.0</td>\n",
       "      <td>New Generation</td>\n",
       "      <td>1978</td>\n",
       "      <td>60 years 07 months</td>\n",
       "      <td>250000.0</td>\n",
       "    </tr>\n",
       "    <tr>\n",
       "      <th>2</th>\n",
       "      <td>2017-01</td>\n",
       "      <td>ANG MO KIO</td>\n",
       "      <td>3 ROOM</td>\n",
       "      <td>602</td>\n",
       "      <td>ANG MO KIO AVE 5</td>\n",
       "      <td>01 TO 03</td>\n",
       "      <td>67.0</td>\n",
       "      <td>New Generation</td>\n",
       "      <td>1980</td>\n",
       "      <td>62 years 05 months</td>\n",
       "      <td>262000.0</td>\n",
       "    </tr>\n",
       "    <tr>\n",
       "      <th>3</th>\n",
       "      <td>2017-01</td>\n",
       "      <td>ANG MO KIO</td>\n",
       "      <td>3 ROOM</td>\n",
       "      <td>465</td>\n",
       "      <td>ANG MO KIO AVE 10</td>\n",
       "      <td>04 TO 06</td>\n",
       "      <td>68.0</td>\n",
       "      <td>New Generation</td>\n",
       "      <td>1980</td>\n",
       "      <td>62 years 01 month</td>\n",
       "      <td>265000.0</td>\n",
       "    </tr>\n",
       "    <tr>\n",
       "      <th>4</th>\n",
       "      <td>2017-01</td>\n",
       "      <td>ANG MO KIO</td>\n",
       "      <td>3 ROOM</td>\n",
       "      <td>601</td>\n",
       "      <td>ANG MO KIO AVE 5</td>\n",
       "      <td>01 TO 03</td>\n",
       "      <td>67.0</td>\n",
       "      <td>New Generation</td>\n",
       "      <td>1980</td>\n",
       "      <td>62 years 05 months</td>\n",
       "      <td>265000.0</td>\n",
       "    </tr>\n",
       "  </tbody>\n",
       "</table>\n",
       "</div>"
      ],
      "text/plain": [
       "     month        town flat_type block        street_name storey_range  \\\n",
       "0  2017-01  ANG MO KIO    2 ROOM   406  ANG MO KIO AVE 10     10 TO 12   \n",
       "1  2017-01  ANG MO KIO    3 ROOM   108   ANG MO KIO AVE 4     01 TO 03   \n",
       "2  2017-01  ANG MO KIO    3 ROOM   602   ANG MO KIO AVE 5     01 TO 03   \n",
       "3  2017-01  ANG MO KIO    3 ROOM   465  ANG MO KIO AVE 10     04 TO 06   \n",
       "4  2017-01  ANG MO KIO    3 ROOM   601   ANG MO KIO AVE 5     01 TO 03   \n",
       "\n",
       "   floor_area_sqm      flat_model  lease_commence_date     remaining_lease  \\\n",
       "0            44.0        Improved                 1979  61 years 04 months   \n",
       "1            67.0  New Generation                 1978  60 years 07 months   \n",
       "2            67.0  New Generation                 1980  62 years 05 months   \n",
       "3            68.0  New Generation                 1980   62 years 01 month   \n",
       "4            67.0  New Generation                 1980  62 years 05 months   \n",
       "\n",
       "   resale_price  \n",
       "0      232000.0  \n",
       "1      250000.0  \n",
       "2      262000.0  \n",
       "3      265000.0  \n",
       "4      265000.0  "
      ]
     },
     "execution_count": 3,
     "metadata": {},
     "output_type": "execute_result"
    }
   ],
   "source": [
    "hdb.head()"
   ]
  },
  {
   "cell_type": "markdown",
   "metadata": {},
   "source": [
    "## 5. Feature Engineering"
   ]
  },
  {
   "cell_type": "markdown",
   "metadata": {},
   "source": [
    "A quick glance through the first 5 rows of data reveals that some of the data (such as month and remaining lease) are not in a usable format. We will need to extract and transform these data into numerical form."
   ]
  },
  {
   "cell_type": "markdown",
   "metadata": {},
   "source": [
    "### 5.1 Date Time Data"
   ]
  },
  {
   "cell_type": "code",
   "execution_count": 4,
   "metadata": {},
   "outputs": [],
   "source": [
    "# Extract Month and Year from 'month' column\n",
    "hdb['sold_year'] = hdb['month'].str[:4].astype(int)\n",
    "hdb['sold_month'] = hdb['month'].str[-2:].astype(int)"
   ]
  },
  {
   "cell_type": "code",
   "execution_count": 5,
   "metadata": {},
   "outputs": [],
   "source": [
    "# Function to convert 'remaining lease' to numerical column\n",
    "def extract_lease_years(row):\n",
    "    if len(row)==4:\n",
    "        return round(int(row[0]) + int(row[2])/12, 2)\n",
    "    else:\n",
    "        return int(row[0])"
   ]
  },
  {
   "cell_type": "code",
   "execution_count": 6,
   "metadata": {},
   "outputs": [],
   "source": [
    "# Apply function to 'remaining lease'\n",
    "hdb['remaining_lease'] = hdb['remaining_lease'].str.split().apply(extract_lease_years)"
   ]
  },
  {
   "cell_type": "code",
   "execution_count": 7,
   "metadata": {},
   "outputs": [
    {
     "data": {
      "text/html": [
       "<div>\n",
       "<style scoped>\n",
       "    .dataframe tbody tr th:only-of-type {\n",
       "        vertical-align: middle;\n",
       "    }\n",
       "\n",
       "    .dataframe tbody tr th {\n",
       "        vertical-align: top;\n",
       "    }\n",
       "\n",
       "    .dataframe thead th {\n",
       "        text-align: right;\n",
       "    }\n",
       "</style>\n",
       "<table border=\"1\" class=\"dataframe\">\n",
       "  <thead>\n",
       "    <tr style=\"text-align: right;\">\n",
       "      <th></th>\n",
       "      <th>month</th>\n",
       "      <th>town</th>\n",
       "      <th>flat_type</th>\n",
       "      <th>block</th>\n",
       "      <th>street_name</th>\n",
       "      <th>storey_range</th>\n",
       "      <th>floor_area_sqm</th>\n",
       "      <th>flat_model</th>\n",
       "      <th>lease_commence_date</th>\n",
       "      <th>remaining_lease</th>\n",
       "      <th>resale_price</th>\n",
       "      <th>sold_year</th>\n",
       "      <th>sold_month</th>\n",
       "    </tr>\n",
       "  </thead>\n",
       "  <tbody>\n",
       "    <tr>\n",
       "      <th>14657</th>\n",
       "      <td>2017-09</td>\n",
       "      <td>SENGKANG</td>\n",
       "      <td>4 ROOM</td>\n",
       "      <td>213B</td>\n",
       "      <td>COMPASSVALE LANE</td>\n",
       "      <td>10 TO 12</td>\n",
       "      <td>95.0</td>\n",
       "      <td>Premium Apartment</td>\n",
       "      <td>2012</td>\n",
       "      <td>94.08</td>\n",
       "      <td>435000.0</td>\n",
       "      <td>2017</td>\n",
       "      <td>9</td>\n",
       "    </tr>\n",
       "    <tr>\n",
       "      <th>9449</th>\n",
       "      <td>2017-06</td>\n",
       "      <td>TOA PAYOH</td>\n",
       "      <td>3 ROOM</td>\n",
       "      <td>117</td>\n",
       "      <td>POTONG PASIR AVE 1</td>\n",
       "      <td>04 TO 06</td>\n",
       "      <td>67.0</td>\n",
       "      <td>New Generation</td>\n",
       "      <td>1984</td>\n",
       "      <td>66.33</td>\n",
       "      <td>265000.0</td>\n",
       "      <td>2017</td>\n",
       "      <td>6</td>\n",
       "    </tr>\n",
       "    <tr>\n",
       "      <th>56931</th>\n",
       "      <td>2019-09</td>\n",
       "      <td>BEDOK</td>\n",
       "      <td>4 ROOM</td>\n",
       "      <td>724</td>\n",
       "      <td>BEDOK RESERVOIR RD</td>\n",
       "      <td>01 TO 03</td>\n",
       "      <td>103.0</td>\n",
       "      <td>Model A</td>\n",
       "      <td>1984</td>\n",
       "      <td>63.83</td>\n",
       "      <td>410000.0</td>\n",
       "      <td>2019</td>\n",
       "      <td>9</td>\n",
       "    </tr>\n",
       "    <tr>\n",
       "      <th>23594</th>\n",
       "      <td>2018-03</td>\n",
       "      <td>JURONG WEST</td>\n",
       "      <td>4 ROOM</td>\n",
       "      <td>822</td>\n",
       "      <td>JURONG WEST ST 81</td>\n",
       "      <td>07 TO 09</td>\n",
       "      <td>106.0</td>\n",
       "      <td>Model A</td>\n",
       "      <td>1993</td>\n",
       "      <td>74.83</td>\n",
       "      <td>320000.0</td>\n",
       "      <td>2018</td>\n",
       "      <td>3</td>\n",
       "    </tr>\n",
       "    <tr>\n",
       "      <th>6004</th>\n",
       "      <td>2017-04</td>\n",
       "      <td>YISHUN</td>\n",
       "      <td>5 ROOM</td>\n",
       "      <td>876</td>\n",
       "      <td>YISHUN ST 81</td>\n",
       "      <td>01 TO 03</td>\n",
       "      <td>121.0</td>\n",
       "      <td>Improved</td>\n",
       "      <td>1987</td>\n",
       "      <td>69.67</td>\n",
       "      <td>430000.0</td>\n",
       "      <td>2017</td>\n",
       "      <td>4</td>\n",
       "    </tr>\n",
       "  </tbody>\n",
       "</table>\n",
       "</div>"
      ],
      "text/plain": [
       "         month         town flat_type block         street_name storey_range  \\\n",
       "14657  2017-09     SENGKANG    4 ROOM  213B    COMPASSVALE LANE     10 TO 12   \n",
       "9449   2017-06    TOA PAYOH    3 ROOM   117  POTONG PASIR AVE 1     04 TO 06   \n",
       "56931  2019-09        BEDOK    4 ROOM   724  BEDOK RESERVOIR RD     01 TO 03   \n",
       "23594  2018-03  JURONG WEST    4 ROOM   822   JURONG WEST ST 81     07 TO 09   \n",
       "6004   2017-04       YISHUN    5 ROOM   876        YISHUN ST 81     01 TO 03   \n",
       "\n",
       "       floor_area_sqm         flat_model  lease_commence_date  \\\n",
       "14657            95.0  Premium Apartment                 2012   \n",
       "9449             67.0     New Generation                 1984   \n",
       "56931           103.0            Model A                 1984   \n",
       "23594           106.0            Model A                 1993   \n",
       "6004            121.0           Improved                 1987   \n",
       "\n",
       "       remaining_lease  resale_price  sold_year  sold_month  \n",
       "14657            94.08      435000.0       2017           9  \n",
       "9449             66.33      265000.0       2017           6  \n",
       "56931            63.83      410000.0       2019           9  \n",
       "23594            74.83      320000.0       2018           3  \n",
       "6004             69.67      430000.0       2017           4  "
      ]
     },
     "execution_count": 7,
     "metadata": {},
     "output_type": "execute_result"
    }
   ],
   "source": [
    "hdb.sample(5)"
   ]
  },
  {
   "cell_type": "markdown",
   "metadata": {},
   "source": [
    "After transforming the date into month and year and remaining lease into float number, we would need to concatenate the block number to its respective street name so that we can pass the full address into OneMap API for more accurate response of the coordinates."
   ]
  },
  {
   "cell_type": "code",
   "execution_count": 8,
   "metadata": {},
   "outputs": [],
   "source": [
    "# Concatenate block number and street name to form full address for API Calls\n",
    "hdb['address'] = hdb['block'] + ' ' + hdb['street_name']"
   ]
  },
  {
   "cell_type": "code",
   "execution_count": 9,
   "metadata": {},
   "outputs": [],
   "source": [
    "# Drop all the pre-engineered column\n",
    "hdb.drop(['month', 'block', 'street_name'], axis=1, inplace=True)"
   ]
  },
  {
   "cell_type": "markdown",
   "metadata": {},
   "source": [
    "### 5.2 Storey Range"
   ]
  },
  {
   "cell_type": "markdown",
   "metadata": {},
   "source": [
    "For the storey range, we will simply extract the median of each range; since the range only covers 3 levels, the data loss would be almost negligible."
   ]
  },
  {
   "cell_type": "code",
   "execution_count": 10,
   "metadata": {},
   "outputs": [
    {
     "data": {
      "text/plain": [
       "array(['10 TO 12', '01 TO 03', '04 TO 06', '07 TO 09', '13 TO 15',\n",
       "       '19 TO 21', '22 TO 24', '16 TO 18', '34 TO 36', '28 TO 30',\n",
       "       '37 TO 39', '49 TO 51', '25 TO 27', '40 TO 42', '31 TO 33',\n",
       "       '46 TO 48', '43 TO 45'], dtype=object)"
      ]
     },
     "execution_count": 10,
     "metadata": {},
     "output_type": "execute_result"
    }
   ],
   "source": [
    "# Check on storey range\n",
    "hdb.storey_range.unique()"
   ]
  },
  {
   "cell_type": "code",
   "execution_count": 11,
   "metadata": {},
   "outputs": [],
   "source": [
    "# Convert 'storey_range' into numerical by taking the midpoint of each range\n",
    "hdb.storey_range = (hdb.storey_range.str[:2].astype(int) + hdb.storey_range.str[-2:].astype(int))\n",
    "hdb.storey_range = (hdb.storey_range/2).astype(int)"
   ]
  },
  {
   "cell_type": "code",
   "execution_count": 12,
   "metadata": {},
   "outputs": [
    {
     "data": {
      "text/html": [
       "<div>\n",
       "<style scoped>\n",
       "    .dataframe tbody tr th:only-of-type {\n",
       "        vertical-align: middle;\n",
       "    }\n",
       "\n",
       "    .dataframe tbody tr th {\n",
       "        vertical-align: top;\n",
       "    }\n",
       "\n",
       "    .dataframe thead th {\n",
       "        text-align: right;\n",
       "    }\n",
       "</style>\n",
       "<table border=\"1\" class=\"dataframe\">\n",
       "  <thead>\n",
       "    <tr style=\"text-align: right;\">\n",
       "      <th></th>\n",
       "      <th>town</th>\n",
       "      <th>flat_type</th>\n",
       "      <th>storey_range</th>\n",
       "      <th>floor_area_sqm</th>\n",
       "      <th>flat_model</th>\n",
       "      <th>lease_commence_date</th>\n",
       "      <th>remaining_lease</th>\n",
       "      <th>resale_price</th>\n",
       "      <th>sold_year</th>\n",
       "      <th>sold_month</th>\n",
       "      <th>address</th>\n",
       "    </tr>\n",
       "  </thead>\n",
       "  <tbody>\n",
       "    <tr>\n",
       "      <th>0</th>\n",
       "      <td>ANG MO KIO</td>\n",
       "      <td>2 ROOM</td>\n",
       "      <td>11</td>\n",
       "      <td>44.0</td>\n",
       "      <td>Improved</td>\n",
       "      <td>1979</td>\n",
       "      <td>61.33</td>\n",
       "      <td>232000.0</td>\n",
       "      <td>2017</td>\n",
       "      <td>1</td>\n",
       "      <td>406 ANG MO KIO AVE 10</td>\n",
       "    </tr>\n",
       "    <tr>\n",
       "      <th>1</th>\n",
       "      <td>ANG MO KIO</td>\n",
       "      <td>3 ROOM</td>\n",
       "      <td>2</td>\n",
       "      <td>67.0</td>\n",
       "      <td>New Generation</td>\n",
       "      <td>1978</td>\n",
       "      <td>60.58</td>\n",
       "      <td>250000.0</td>\n",
       "      <td>2017</td>\n",
       "      <td>1</td>\n",
       "      <td>108 ANG MO KIO AVE 4</td>\n",
       "    </tr>\n",
       "    <tr>\n",
       "      <th>2</th>\n",
       "      <td>ANG MO KIO</td>\n",
       "      <td>3 ROOM</td>\n",
       "      <td>2</td>\n",
       "      <td>67.0</td>\n",
       "      <td>New Generation</td>\n",
       "      <td>1980</td>\n",
       "      <td>62.42</td>\n",
       "      <td>262000.0</td>\n",
       "      <td>2017</td>\n",
       "      <td>1</td>\n",
       "      <td>602 ANG MO KIO AVE 5</td>\n",
       "    </tr>\n",
       "    <tr>\n",
       "      <th>3</th>\n",
       "      <td>ANG MO KIO</td>\n",
       "      <td>3 ROOM</td>\n",
       "      <td>5</td>\n",
       "      <td>68.0</td>\n",
       "      <td>New Generation</td>\n",
       "      <td>1980</td>\n",
       "      <td>62.08</td>\n",
       "      <td>265000.0</td>\n",
       "      <td>2017</td>\n",
       "      <td>1</td>\n",
       "      <td>465 ANG MO KIO AVE 10</td>\n",
       "    </tr>\n",
       "    <tr>\n",
       "      <th>4</th>\n",
       "      <td>ANG MO KIO</td>\n",
       "      <td>3 ROOM</td>\n",
       "      <td>2</td>\n",
       "      <td>67.0</td>\n",
       "      <td>New Generation</td>\n",
       "      <td>1980</td>\n",
       "      <td>62.42</td>\n",
       "      <td>265000.0</td>\n",
       "      <td>2017</td>\n",
       "      <td>1</td>\n",
       "      <td>601 ANG MO KIO AVE 5</td>\n",
       "    </tr>\n",
       "  </tbody>\n",
       "</table>\n",
       "</div>"
      ],
      "text/plain": [
       "         town flat_type  storey_range  floor_area_sqm      flat_model  \\\n",
       "0  ANG MO KIO    2 ROOM            11            44.0        Improved   \n",
       "1  ANG MO KIO    3 ROOM             2            67.0  New Generation   \n",
       "2  ANG MO KIO    3 ROOM             2            67.0  New Generation   \n",
       "3  ANG MO KIO    3 ROOM             5            68.0  New Generation   \n",
       "4  ANG MO KIO    3 ROOM             2            67.0  New Generation   \n",
       "\n",
       "   lease_commence_date  remaining_lease  resale_price  sold_year  sold_month  \\\n",
       "0                 1979            61.33      232000.0       2017           1   \n",
       "1                 1978            60.58      250000.0       2017           1   \n",
       "2                 1980            62.42      262000.0       2017           1   \n",
       "3                 1980            62.08      265000.0       2017           1   \n",
       "4                 1980            62.42      265000.0       2017           1   \n",
       "\n",
       "                 address  \n",
       "0  406 ANG MO KIO AVE 10  \n",
       "1   108 ANG MO KIO AVE 4  \n",
       "2   602 ANG MO KIO AVE 5  \n",
       "3  465 ANG MO KIO AVE 10  \n",
       "4   601 ANG MO KIO AVE 5  "
      ]
     },
     "execution_count": 12,
     "metadata": {},
     "output_type": "execute_result"
    }
   ],
   "source": [
    "# Sanity check\n",
    "hdb.head()"
   ]
  },
  {
   "cell_type": "markdown",
   "metadata": {},
   "source": [
    "### 5.3 Coordinates"
   ]
  },
  {
   "cell_type": "markdown",
   "metadata": {},
   "source": [
    "#### 5.3.1 OneMap API Calling"
   ]
  },
  {
   "cell_type": "markdown",
   "metadata": {},
   "source": [
    "In order to speed up the API calling, instead of passing each entries, which requires 70,104 requests, we will only pass in unique address we have in the raw dataset. We have only 8,712 unique address, so the time required for API calling has been saved by 88%."
   ]
  },
  {
   "cell_type": "code",
   "execution_count": 14,
   "metadata": {
    "scrolled": false
   },
   "outputs": [],
   "source": [
    "unique_add = pd.Series(hdb['address'].unique())"
   ]
  },
  {
   "cell_type": "code",
   "execution_count": 15,
   "metadata": {},
   "outputs": [],
   "source": [
    "unique_add = pd.DataFrame(unique_add, columns=[\"address\"])"
   ]
  },
  {
   "cell_type": "code",
   "execution_count": 19,
   "metadata": {},
   "outputs": [
    {
     "name": "stdout",
     "output_type": "stream",
     "text": [
      "Time Saving on API Calling: 88.0 %\n"
     ]
    }
   ],
   "source": [
    "print(\"Time Saving on API Calling:\", round(1 - unique_add.shape[0] / hdb.shape[0], 2) * 100, '%')"
   ]
  },
  {
   "cell_type": "code",
   "execution_count": 15,
   "metadata": {},
   "outputs": [
    {
     "name": "stdout",
     "output_type": "stream",
     "text": [
      "Waiting... (666A YISHUN AVE 4)... 0 addresses remaining... . . ... ..."
     ]
    }
   ],
   "source": [
    "# Extract coordinates from OneMap API by sending full address of each block\n",
    "latitude = []\n",
    "longitude = []\n",
    "\n",
    "if 'latitude' not in unique_add.columns:\n",
    "    unique_add['latitude'] = np.nan\n",
    "    unique_add['longitude'] = np.nan\n",
    "\n",
    "for i, address in enumerate(unique_add['address']):\n",
    "    if math.isnan(unique_add.loc[i, 'latitude']):\n",
    "        try:\n",
    "            print('\\rWaiting... ({})... {} addresses remaining... '.format(address, len(unique_add)-i-1), end='.')\n",
    "            query = \"https://developers.onemap.sg/commonapi/search?searchVal=\" + address + \"&returnGeom=Y&getAddrDetails=N\"\n",
    "            response = requests.get(query)\n",
    "            coor_json = json.loads(response.content)\n",
    "            unique_add.loc[i, 'latitude'] = coor_json['results'][0]['LATITUDE']\n",
    "            unique_add.loc[i, 'longitude'] = coor_json['results'][0]['LONGITUDE']\n",
    "\n",
    "        except:\n",
    "            unique_add.loc[i, 'latitude'] = np.nan\n",
    "            unique_add.loc[i, 'longitude'] = np.nan\n",
    "\n",
    "        # Export dataframe every loop to csv for inspection\n",
    "        unique_add.to_csv('./Dataset/Transitional/unique_address.csv', index=False)\n",
    "\n",
    "        # Sleeping time to avoid overloading server\n",
    "        time.sleep(random.randint(1,2)/4)\n",
    "\n",
    "if unique_add['latitude'].isnull().sum() == 0:\n",
    "    print(\"--- Data is complete ---\")"
   ]
  },
  {
   "cell_type": "markdown",
   "metadata": {},
   "source": [
    "#### 5.3.2 Addressing Missing Data"
   ]
  },
  {
   "cell_type": "markdown",
   "metadata": {},
   "source": [
    "It seems that we have a systematic pattern of missing data from the API calling. All entries have full address containing the word \"St. George's\". A quick trial on OneMap has showed that the system only register the word 'Saint' rather than the abbreviation of 'St.'. So we will replace all the abbreviation and pass it again into the loop. But this time, the function will be updated with a NaN checking feature, so only missing value will be updated, saving us previous time and resources."
   ]
  },
  {
   "cell_type": "code",
   "execution_count": 16,
   "metadata": {},
   "outputs": [
    {
     "data": {
      "text/plain": [
       "array([\"3 ST. GEORGE'S RD\", \"21 ST. GEORGE'S RD\", \"11 ST. GEORGE'S RD\",\n",
       "       \"8 ST. GEORGE'S LANE\", \"18 ST. GEORGE'S RD\", \"15 ST. GEORGE'S RD\",\n",
       "       \"9 ST. GEORGE'S RD\", \"4B ST. GEORGE'S LANE\", \"7 ST. GEORGE'S LANE\",\n",
       "       \"5 ST. GEORGE'S LANE\", \"22 ST. GEORGE'S RD\", \"20 ST. GEORGE'S RD\",\n",
       "       \"13 ST. GEORGE'S RD\", \"6 ST. GEORGE'S LANE\", \"2 ST. GEORGE'S RD\",\n",
       "       \"14 ST. GEORGE'S RD\", \"23 ST. GEORGE'S RD\", \"16 ST. GEORGE'S RD\",\n",
       "       \"1 ST. GEORGE'S RD\", \"10 ST. GEORGE'S RD\", \"17 ST. GEORGE'S RD\"],\n",
       "      dtype=object)"
      ]
     },
     "execution_count": 16,
     "metadata": {},
     "output_type": "execute_result"
    }
   ],
   "source": [
    "unique_add[unique_add['latitude'].isnull()]['address'].unique()"
   ]
  },
  {
   "cell_type": "code",
   "execution_count": 17,
   "metadata": {},
   "outputs": [],
   "source": [
    "missing_index = unique_add[unique_add['latitude'].isnull()].index"
   ]
  },
  {
   "cell_type": "code",
   "execution_count": 18,
   "metadata": {},
   "outputs": [],
   "source": [
    "unique_add.loc[missing_index, 'address'] = unique_add.loc[missing_index, 'address'].str.replace('ST.', 'SAINT')"
   ]
  },
  {
   "cell_type": "code",
   "execution_count": 19,
   "metadata": {},
   "outputs": [],
   "source": [
    "unique_add['latitude'] = unique_add['latitude'].astype(float)\n",
    "unique_add['longitude'] = unique_add['longitude'].astype(float)"
   ]
  },
  {
   "cell_type": "markdown",
   "metadata": {},
   "source": [
    "#### 5.3.3 Second Round API Calling"
   ]
  },
  {
   "cell_type": "code",
   "execution_count": 20,
   "metadata": {},
   "outputs": [
    {
     "name": "stdout",
     "output_type": "stream",
     "text": [
      "Waiting... (17 SAINT GEORGE'S RD)... 616 neighbourhood remaining... ....--- Data is complete ---\n"
     ]
    }
   ],
   "source": [
    "# Repassing dataframe for API Calling but only missing data is processed\n",
    "for i, lat in enumerate(unique_add.latitude):\n",
    "    \n",
    "    # Only if latitude is missing, fire up API calling query\n",
    "    if math.isnan(lat):\n",
    "        address = unique_add.loc[i, 'address']\n",
    "        try:\n",
    "            print('\\rWaiting... ({})... {} neighbourhood remaining... '.format(address, len(unique_add)-i-1), end='.')\n",
    "            query = \"https://developers.onemap.sg/commonapi/search?searchVal=\" + address + \"&returnGeom=Y&getAddrDetails=N\"\n",
    "            response = requests.get(query)\n",
    "            coor_json = json.loads(response.content)\n",
    "            unique_add.loc[i, 'latitude'] = coor_json['results'][0]['LATITUDE']\n",
    "            unique_add.loc[i, 'longitude'] = coor_json['results'][0]['LONGITUDE']\n",
    "            time.sleep(random.randint(1,2)/4)\n",
    "\n",
    "        except:\n",
    "            unique_add.loc[i, 'latitude'] = np.nan\n",
    "            unique_add.loc[i, 'longitude'] = np.nan\n",
    "            time.sleep(random.randint(1,2)/4)\n",
    "            \n",
    "unique_add.to_csv('./Dataset/Transitional/unique_address.csv', index=False)\n",
    "\n",
    "if unique_add['latitude'].isnull().sum() == 0:\n",
    "    print(\"--- Data is complete ---\")"
   ]
  },
  {
   "cell_type": "code",
   "execution_count": 21,
   "metadata": {},
   "outputs": [],
   "source": [
    "# Sanity check on missing data\n",
    "unique_add = pd.read_csv(\"./Dataset/Transitional/unique_address.csv\")"
   ]
  },
  {
   "cell_type": "code",
   "execution_count": 22,
   "metadata": {},
   "outputs": [
    {
     "data": {
      "text/plain": [
       "address      0\n",
       "latitude     0\n",
       "longitude    0\n",
       "dtype: int64"
      ]
     },
     "execution_count": 22,
     "metadata": {},
     "output_type": "execute_result"
    }
   ],
   "source": [
    "unique_add.isnull().sum()"
   ]
  },
  {
   "cell_type": "markdown",
   "metadata": {},
   "source": [
    "## 6. Final Data Export"
   ]
  },
  {
   "cell_type": "code",
   "execution_count": 24,
   "metadata": {},
   "outputs": [],
   "source": [
    "hdb = pd.merge(hdb, unique_add, how='left', on='address')"
   ]
  },
  {
   "cell_type": "code",
   "execution_count": 26,
   "metadata": {},
   "outputs": [],
   "source": [
    "# Export final dataframe to CSV\n",
    "hdb.to_csv('./Dataset/Transitional/complete_data.csv', index=False)"
   ]
  },
  {
   "cell_type": "code",
   "execution_count": 27,
   "metadata": {},
   "outputs": [
    {
     "data": {
      "text/plain": [
       "town                     0\n",
       "flat_type                0\n",
       "storey_range             0\n",
       "floor_area_sqm           0\n",
       "flat_model               0\n",
       "lease_commence_date      0\n",
       "remaining_lease          0\n",
       "resale_price             0\n",
       "sold_year                0\n",
       "sold_month               0\n",
       "address                  0\n",
       "latitude               164\n",
       "longitude              164\n",
       "dtype: int64"
      ]
     },
     "execution_count": 27,
     "metadata": {},
     "output_type": "execute_result"
    }
   ],
   "source": [
    "# Sanity check on the final dataframe\n",
    "hdb = pd.read_csv('./Dataset/Transitional/complete_data.csv')\n",
    "hdb.isnull().sum()"
   ]
  },
  {
   "cell_type": "code",
   "execution_count": 31,
   "metadata": {},
   "outputs": [],
   "source": [
    "missing_data = hdb[hdb['latitude'].isnull()].index\n",
    "hdb.loc[missing_data, 'address'] = hdb.loc[missing_data, 'address'].str.replace('ST.', 'SAINT')\n",
    "hdb = pd.merge(hdb, unique_add, how='left', on='address')"
   ]
  },
  {
   "cell_type": "markdown",
   "metadata": {},
   "source": [
    "After the data from unique address is merged to the final data from the first round, we now have 2 sets of coordinates. So we will be dropping the data from the first round as they are encompassed in the second round data as well. The 2 columns will also be renamed for the ease of future references."
   ]
  },
  {
   "cell_type": "code",
   "execution_count": 32,
   "metadata": {},
   "outputs": [
    {
     "data": {
      "text/plain": [
       "town                     0\n",
       "flat_type                0\n",
       "storey_range             0\n",
       "floor_area_sqm           0\n",
       "flat_model               0\n",
       "lease_commence_date      0\n",
       "remaining_lease          0\n",
       "resale_price             0\n",
       "sold_year                0\n",
       "sold_month               0\n",
       "address                  0\n",
       "latitude_x             164\n",
       "longitude_x            164\n",
       "latitude_y               0\n",
       "longitude_y              0\n",
       "dtype: int64"
      ]
     },
     "execution_count": 32,
     "metadata": {},
     "output_type": "execute_result"
    }
   ],
   "source": [
    "hdb.isnull().sum()"
   ]
  },
  {
   "cell_type": "code",
   "execution_count": 33,
   "metadata": {},
   "outputs": [],
   "source": [
    "hdb.drop(['latitude_x', 'longitude_x'], axis=1, inplace=True)\n",
    "hdb.rename(columns={'latitude_y': 'latitude', 'longitude_y': 'longitude'}, inplace=True)"
   ]
  },
  {
   "cell_type": "code",
   "execution_count": 37,
   "metadata": {},
   "outputs": [],
   "source": [
    "# Export final dataframe to CSV\n",
    "hdb.to_csv('./Dataset/Transitional/complete_data.csv', index=False)"
   ]
  },
  {
   "cell_type": "markdown",
   "metadata": {},
   "source": [
    "Now that the final data has been checked and exported, we will move on the second part on data scraping. In the 2nd notebook, data on amenities and infrastructure will be scraped from online resource and merged with our HDB dataset so that the effect of each aspects on housing price can be studied."
   ]
  }
 ],
 "metadata": {
  "kernelspec": {
   "display_name": "Python 3",
   "language": "python",
   "name": "python3"
  },
  "language_info": {
   "codemirror_mode": {
    "name": "ipython",
    "version": 3
   },
   "file_extension": ".py",
   "mimetype": "text/x-python",
   "name": "python",
   "nbconvert_exporter": "python",
   "pygments_lexer": "ipython3",
   "version": "3.7.4"
  }
 },
 "nbformat": 4,
 "nbformat_minor": 4
}
