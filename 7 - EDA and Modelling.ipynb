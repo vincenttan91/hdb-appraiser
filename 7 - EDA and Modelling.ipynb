{
 "cells": [
  {
   "cell_type": "markdown",
   "metadata": {},
   "source": [
    "# Singapore Public Housing (HDB) Resale Price Prediction Model (Part 7)\n",
    "### EDA and Modelling"
   ]
  },
  {
   "cell_type": "markdown",
   "metadata": {},
   "source": [
    "## 1. Initialization"
   ]
  },
  {
   "cell_type": "code",
   "execution_count": 8,
   "metadata": {},
   "outputs": [],
   "source": [
    "import pandas as pd\n",
    "import numpy as np\n",
    "import matplotlib.pyplot as plt\n",
    "import seaborn as sns\n",
    "import pickle\n",
    "\n",
    "pd.set_option('max_columns', 99)"
   ]
  },
  {
   "cell_type": "code",
   "execution_count": 9,
   "metadata": {},
   "outputs": [],
   "source": [
    "from sklearn.preprocessing import StandardScaler, OneHotEncoder\n",
    "from sklearn.model_selection import train_test_split, KFold, cross_val_score\n",
    "from sklearn.feature_selection import RFECV\n",
    "from sklearn.linear_model import LinearRegression\n",
    "from sklearn.ensemble import RandomForestRegressor\n",
    "from sklearn.metrics import mean_squared_error, mean_absolute_error"
   ]
  },
  {
   "cell_type": "code",
   "execution_count": 10,
   "metadata": {},
   "outputs": [],
   "source": [
    "# Neural Network\n"
   ]
  },
  {
   "cell_type": "code",
   "execution_count": 11,
   "metadata": {},
   "outputs": [],
   "source": [
    "hdb = pd.read_csv('./Dataset/final_data.csv')"
   ]
  },
  {
   "cell_type": "code",
   "execution_count": 12,
   "metadata": {},
   "outputs": [
    {
     "data": {
      "text/html": [
       "<div>\n",
       "<style scoped>\n",
       "    .dataframe tbody tr th:only-of-type {\n",
       "        vertical-align: middle;\n",
       "    }\n",
       "\n",
       "    .dataframe tbody tr th {\n",
       "        vertical-align: top;\n",
       "    }\n",
       "\n",
       "    .dataframe thead th {\n",
       "        text-align: right;\n",
       "    }\n",
       "</style>\n",
       "<table border=\"1\" class=\"dataframe\">\n",
       "  <thead>\n",
       "    <tr style=\"text-align: right;\">\n",
       "      <th></th>\n",
       "      <th>town</th>\n",
       "      <th>flat_type</th>\n",
       "      <th>storey_range</th>\n",
       "      <th>floor_area_sqm</th>\n",
       "      <th>flat_model</th>\n",
       "      <th>lease_commence_date</th>\n",
       "      <th>remaining_lease</th>\n",
       "      <th>resale_price</th>\n",
       "      <th>sold_year</th>\n",
       "      <th>sold_month</th>\n",
       "      <th>address</th>\n",
       "      <th>latitude</th>\n",
       "      <th>longitude</th>\n",
       "      <th>raffles_place_dist</th>\n",
       "      <th>one_north_dist</th>\n",
       "      <th>jurong_east_dist</th>\n",
       "      <th>orchard_dist</th>\n",
       "      <th>changi_dist</th>\n",
       "      <th>raffles_place_drive</th>\n",
       "      <th>one_north_drive</th>\n",
       "      <th>jurong_east_drive</th>\n",
       "      <th>orchard_drive</th>\n",
       "      <th>changi_drive</th>\n",
       "      <th>mrt_dist</th>\n",
       "      <th>near_bus_itc</th>\n",
       "      <th>near_mrt_itc</th>\n",
       "      <th>mrt_station</th>\n",
       "      <th>bus_u300m</th>\n",
       "      <th>bus_dist</th>\n",
       "      <th>mall_u1km</th>\n",
       "      <th>mall_dist</th>\n",
       "      <th>pri_u1km</th>\n",
       "      <th>pri_u2km</th>\n",
       "      <th>pri_aff_u1km</th>\n",
       "      <th>pri_aff_u2km</th>\n",
       "      <th>pri_elite_u1km</th>\n",
       "      <th>pri_elite_u2km</th>\n",
       "      <th>sec_u1km</th>\n",
       "      <th>sec_u2km</th>\n",
       "      <th>sec_aff_u1km</th>\n",
       "      <th>sec_aff_u2km</th>\n",
       "      <th>sec_elite_u1km</th>\n",
       "      <th>sec_elite_u2km</th>\n",
       "    </tr>\n",
       "  </thead>\n",
       "  <tbody>\n",
       "    <tr>\n",
       "      <th>0</th>\n",
       "      <td>ANG MO KIO</td>\n",
       "      <td>2 ROOM</td>\n",
       "      <td>11</td>\n",
       "      <td>44.0</td>\n",
       "      <td>Improved</td>\n",
       "      <td>1979</td>\n",
       "      <td>61.33</td>\n",
       "      <td>232000.0</td>\n",
       "      <td>2017</td>\n",
       "      <td>1</td>\n",
       "      <td>406 ANG MO KIO AVE 10</td>\n",
       "      <td>1.362005</td>\n",
       "      <td>103.853880</td>\n",
       "      <td>25.17</td>\n",
       "      <td>35.18</td>\n",
       "      <td>47.60</td>\n",
       "      <td>21.13</td>\n",
       "      <td>46.20</td>\n",
       "      <td>18.80</td>\n",
       "      <td>26.20</td>\n",
       "      <td>29.93</td>\n",
       "      <td>15.25</td>\n",
       "      <td>32.25</td>\n",
       "      <td>938.0</td>\n",
       "      <td>0.0</td>\n",
       "      <td>0.0</td>\n",
       "      <td>Ang Mo Kio</td>\n",
       "      <td>5.0</td>\n",
       "      <td>91.0</td>\n",
       "      <td>0.0</td>\n",
       "      <td>1003.0</td>\n",
       "      <td>2.0</td>\n",
       "      <td>11.0</td>\n",
       "      <td>0.0</td>\n",
       "      <td>1.0</td>\n",
       "      <td>0.0</td>\n",
       "      <td>1.0</td>\n",
       "      <td>1.0</td>\n",
       "      <td>10.0</td>\n",
       "      <td>0.0</td>\n",
       "      <td>1.0</td>\n",
       "      <td>0.0</td>\n",
       "      <td>2.0</td>\n",
       "    </tr>\n",
       "    <tr>\n",
       "      <th>1</th>\n",
       "      <td>ANG MO KIO</td>\n",
       "      <td>3 ROOM</td>\n",
       "      <td>2</td>\n",
       "      <td>67.0</td>\n",
       "      <td>New Generation</td>\n",
       "      <td>1978</td>\n",
       "      <td>60.58</td>\n",
       "      <td>250000.0</td>\n",
       "      <td>2017</td>\n",
       "      <td>1</td>\n",
       "      <td>108 ANG MO KIO AVE 4</td>\n",
       "      <td>1.370966</td>\n",
       "      <td>103.838202</td>\n",
       "      <td>31.97</td>\n",
       "      <td>42.38</td>\n",
       "      <td>61.63</td>\n",
       "      <td>27.93</td>\n",
       "      <td>53.00</td>\n",
       "      <td>20.25</td>\n",
       "      <td>24.30</td>\n",
       "      <td>28.03</td>\n",
       "      <td>16.72</td>\n",
       "      <td>33.72</td>\n",
       "      <td>1315.0</td>\n",
       "      <td>0.0</td>\n",
       "      <td>0.0</td>\n",
       "      <td>Ang Mo Kio</td>\n",
       "      <td>5.0</td>\n",
       "      <td>166.0</td>\n",
       "      <td>1.0</td>\n",
       "      <td>870.0</td>\n",
       "      <td>3.0</td>\n",
       "      <td>8.0</td>\n",
       "      <td>1.0</td>\n",
       "      <td>2.0</td>\n",
       "      <td>1.0</td>\n",
       "      <td>2.0</td>\n",
       "      <td>5.0</td>\n",
       "      <td>12.0</td>\n",
       "      <td>1.0</td>\n",
       "      <td>2.0</td>\n",
       "      <td>2.0</td>\n",
       "      <td>4.0</td>\n",
       "    </tr>\n",
       "    <tr>\n",
       "      <th>2</th>\n",
       "      <td>ANG MO KIO</td>\n",
       "      <td>3 ROOM</td>\n",
       "      <td>2</td>\n",
       "      <td>67.0</td>\n",
       "      <td>New Generation</td>\n",
       "      <td>1980</td>\n",
       "      <td>62.42</td>\n",
       "      <td>262000.0</td>\n",
       "      <td>2017</td>\n",
       "      <td>1</td>\n",
       "      <td>602 ANG MO KIO AVE 5</td>\n",
       "      <td>1.380709</td>\n",
       "      <td>103.835368</td>\n",
       "      <td>33.15</td>\n",
       "      <td>44.85</td>\n",
       "      <td>64.58</td>\n",
       "      <td>29.12</td>\n",
       "      <td>61.28</td>\n",
       "      <td>23.13</td>\n",
       "      <td>27.08</td>\n",
       "      <td>30.82</td>\n",
       "      <td>19.63</td>\n",
       "      <td>36.63</td>\n",
       "      <td>1041.0</td>\n",
       "      <td>0.0</td>\n",
       "      <td>0.0</td>\n",
       "      <td>Yio Chu Kang</td>\n",
       "      <td>4.0</td>\n",
       "      <td>129.0</td>\n",
       "      <td>0.0</td>\n",
       "      <td>1530.0</td>\n",
       "      <td>3.0</td>\n",
       "      <td>4.0</td>\n",
       "      <td>1.0</td>\n",
       "      <td>1.0</td>\n",
       "      <td>1.0</td>\n",
       "      <td>1.0</td>\n",
       "      <td>4.0</td>\n",
       "      <td>8.0</td>\n",
       "      <td>1.0</td>\n",
       "      <td>1.0</td>\n",
       "      <td>2.0</td>\n",
       "      <td>2.0</td>\n",
       "    </tr>\n",
       "    <tr>\n",
       "      <th>3</th>\n",
       "      <td>ANG MO KIO</td>\n",
       "      <td>3 ROOM</td>\n",
       "      <td>5</td>\n",
       "      <td>68.0</td>\n",
       "      <td>New Generation</td>\n",
       "      <td>1980</td>\n",
       "      <td>62.08</td>\n",
       "      <td>265000.0</td>\n",
       "      <td>2017</td>\n",
       "      <td>1</td>\n",
       "      <td>465 ANG MO KIO AVE 10</td>\n",
       "      <td>1.366201</td>\n",
       "      <td>103.857201</td>\n",
       "      <td>28.65</td>\n",
       "      <td>35.95</td>\n",
       "      <td>48.10</td>\n",
       "      <td>24.62</td>\n",
       "      <td>46.57</td>\n",
       "      <td>18.25</td>\n",
       "      <td>25.70</td>\n",
       "      <td>29.43</td>\n",
       "      <td>14.72</td>\n",
       "      <td>31.70</td>\n",
       "      <td>885.0</td>\n",
       "      <td>0.0</td>\n",
       "      <td>0.0</td>\n",
       "      <td>Ang Mo Kio</td>\n",
       "      <td>2.0</td>\n",
       "      <td>69.0</td>\n",
       "      <td>1.0</td>\n",
       "      <td>879.0</td>\n",
       "      <td>3.0</td>\n",
       "      <td>9.0</td>\n",
       "      <td>0.0</td>\n",
       "      <td>1.0</td>\n",
       "      <td>0.0</td>\n",
       "      <td>1.0</td>\n",
       "      <td>1.0</td>\n",
       "      <td>8.0</td>\n",
       "      <td>0.0</td>\n",
       "      <td>1.0</td>\n",
       "      <td>0.0</td>\n",
       "      <td>2.0</td>\n",
       "    </tr>\n",
       "    <tr>\n",
       "      <th>4</th>\n",
       "      <td>ANG MO KIO</td>\n",
       "      <td>3 ROOM</td>\n",
       "      <td>2</td>\n",
       "      <td>67.0</td>\n",
       "      <td>New Generation</td>\n",
       "      <td>1980</td>\n",
       "      <td>62.42</td>\n",
       "      <td>265000.0</td>\n",
       "      <td>2017</td>\n",
       "      <td>1</td>\n",
       "      <td>601 ANG MO KIO AVE 5</td>\n",
       "      <td>1.381041</td>\n",
       "      <td>103.835132</td>\n",
       "      <td>33.80</td>\n",
       "      <td>45.50</td>\n",
       "      <td>65.23</td>\n",
       "      <td>29.77</td>\n",
       "      <td>60.55</td>\n",
       "      <td>23.17</td>\n",
       "      <td>27.12</td>\n",
       "      <td>30.85</td>\n",
       "      <td>18.77</td>\n",
       "      <td>35.32</td>\n",
       "      <td>1063.0</td>\n",
       "      <td>0.0</td>\n",
       "      <td>0.0</td>\n",
       "      <td>Yio Chu Kang</td>\n",
       "      <td>4.0</td>\n",
       "      <td>149.0</td>\n",
       "      <td>0.0</td>\n",
       "      <td>1574.0</td>\n",
       "      <td>2.0</td>\n",
       "      <td>4.0</td>\n",
       "      <td>1.0</td>\n",
       "      <td>1.0</td>\n",
       "      <td>1.0</td>\n",
       "      <td>1.0</td>\n",
       "      <td>4.0</td>\n",
       "      <td>8.0</td>\n",
       "      <td>1.0</td>\n",
       "      <td>1.0</td>\n",
       "      <td>2.0</td>\n",
       "      <td>2.0</td>\n",
       "    </tr>\n",
       "    <tr>\n",
       "      <th>5</th>\n",
       "      <td>ANG MO KIO</td>\n",
       "      <td>3 ROOM</td>\n",
       "      <td>2</td>\n",
       "      <td>68.0</td>\n",
       "      <td>New Generation</td>\n",
       "      <td>1981</td>\n",
       "      <td>63.00</td>\n",
       "      <td>275000.0</td>\n",
       "      <td>2017</td>\n",
       "      <td>1</td>\n",
       "      <td>150 ANG MO KIO AVE 5</td>\n",
       "      <td>1.376807</td>\n",
       "      <td>103.842018</td>\n",
       "      <td>34.72</td>\n",
       "      <td>40.47</td>\n",
       "      <td>52.88</td>\n",
       "      <td>30.68</td>\n",
       "      <td>55.97</td>\n",
       "      <td>21.82</td>\n",
       "      <td>26.23</td>\n",
       "      <td>29.97</td>\n",
       "      <td>16.58</td>\n",
       "      <td>33.58</td>\n",
       "      <td>643.0</td>\n",
       "      <td>0.0</td>\n",
       "      <td>0.0</td>\n",
       "      <td>Yio Chu Kang</td>\n",
       "      <td>6.0</td>\n",
       "      <td>91.0</td>\n",
       "      <td>1.0</td>\n",
       "      <td>697.0</td>\n",
       "      <td>4.0</td>\n",
       "      <td>6.0</td>\n",
       "      <td>1.0</td>\n",
       "      <td>1.0</td>\n",
       "      <td>1.0</td>\n",
       "      <td>1.0</td>\n",
       "      <td>4.0</td>\n",
       "      <td>9.0</td>\n",
       "      <td>1.0</td>\n",
       "      <td>1.0</td>\n",
       "      <td>2.0</td>\n",
       "      <td>2.0</td>\n",
       "    </tr>\n",
       "    <tr>\n",
       "      <th>6</th>\n",
       "      <td>ANG MO KIO</td>\n",
       "      <td>3 ROOM</td>\n",
       "      <td>5</td>\n",
       "      <td>68.0</td>\n",
       "      <td>New Generation</td>\n",
       "      <td>1979</td>\n",
       "      <td>61.50</td>\n",
       "      <td>280000.0</td>\n",
       "      <td>2017</td>\n",
       "      <td>1</td>\n",
       "      <td>447 ANG MO KIO AVE 10</td>\n",
       "      <td>1.367479</td>\n",
       "      <td>103.855967</td>\n",
       "      <td>28.33</td>\n",
       "      <td>38.02</td>\n",
       "      <td>50.17</td>\n",
       "      <td>24.30</td>\n",
       "      <td>48.63</td>\n",
       "      <td>18.77</td>\n",
       "      <td>25.60</td>\n",
       "      <td>29.33</td>\n",
       "      <td>15.23</td>\n",
       "      <td>32.23</td>\n",
       "      <td>705.0</td>\n",
       "      <td>0.0</td>\n",
       "      <td>0.0</td>\n",
       "      <td>Ang Mo Kio</td>\n",
       "      <td>4.0</td>\n",
       "      <td>140.0</td>\n",
       "      <td>1.0</td>\n",
       "      <td>856.0</td>\n",
       "      <td>3.0</td>\n",
       "      <td>9.0</td>\n",
       "      <td>0.0</td>\n",
       "      <td>1.0</td>\n",
       "      <td>0.0</td>\n",
       "      <td>1.0</td>\n",
       "      <td>2.0</td>\n",
       "      <td>10.0</td>\n",
       "      <td>0.0</td>\n",
       "      <td>1.0</td>\n",
       "      <td>0.0</td>\n",
       "      <td>2.0</td>\n",
       "    </tr>\n",
       "    <tr>\n",
       "      <th>7</th>\n",
       "      <td>ANG MO KIO</td>\n",
       "      <td>3 ROOM</td>\n",
       "      <td>5</td>\n",
       "      <td>67.0</td>\n",
       "      <td>New Generation</td>\n",
       "      <td>1976</td>\n",
       "      <td>58.33</td>\n",
       "      <td>285000.0</td>\n",
       "      <td>2017</td>\n",
       "      <td>1</td>\n",
       "      <td>218 ANG MO KIO AVE 1</td>\n",
       "      <td>1.365119</td>\n",
       "      <td>103.841743</td>\n",
       "      <td>28.07</td>\n",
       "      <td>38.80</td>\n",
       "      <td>50.95</td>\n",
       "      <td>24.03</td>\n",
       "      <td>49.42</td>\n",
       "      <td>18.83</td>\n",
       "      <td>22.65</td>\n",
       "      <td>26.38</td>\n",
       "      <td>15.28</td>\n",
       "      <td>32.28</td>\n",
       "      <td>1031.0</td>\n",
       "      <td>0.0</td>\n",
       "      <td>0.0</td>\n",
       "      <td>Ang Mo Kio</td>\n",
       "      <td>4.0</td>\n",
       "      <td>132.0</td>\n",
       "      <td>2.0</td>\n",
       "      <td>876.0</td>\n",
       "      <td>1.0</td>\n",
       "      <td>8.0</td>\n",
       "      <td>0.0</td>\n",
       "      <td>2.0</td>\n",
       "      <td>0.0</td>\n",
       "      <td>2.0</td>\n",
       "      <td>2.0</td>\n",
       "      <td>12.0</td>\n",
       "      <td>0.0</td>\n",
       "      <td>2.0</td>\n",
       "      <td>0.0</td>\n",
       "      <td>4.0</td>\n",
       "    </tr>\n",
       "    <tr>\n",
       "      <th>8</th>\n",
       "      <td>ANG MO KIO</td>\n",
       "      <td>3 ROOM</td>\n",
       "      <td>5</td>\n",
       "      <td>68.0</td>\n",
       "      <td>New Generation</td>\n",
       "      <td>1979</td>\n",
       "      <td>61.50</td>\n",
       "      <td>285000.0</td>\n",
       "      <td>2017</td>\n",
       "      <td>1</td>\n",
       "      <td>447 ANG MO KIO AVE 10</td>\n",
       "      <td>1.367479</td>\n",
       "      <td>103.855967</td>\n",
       "      <td>28.33</td>\n",
       "      <td>38.02</td>\n",
       "      <td>50.17</td>\n",
       "      <td>24.30</td>\n",
       "      <td>48.63</td>\n",
       "      <td>18.77</td>\n",
       "      <td>25.60</td>\n",
       "      <td>29.33</td>\n",
       "      <td>15.23</td>\n",
       "      <td>32.23</td>\n",
       "      <td>705.0</td>\n",
       "      <td>0.0</td>\n",
       "      <td>0.0</td>\n",
       "      <td>Ang Mo Kio</td>\n",
       "      <td>4.0</td>\n",
       "      <td>140.0</td>\n",
       "      <td>1.0</td>\n",
       "      <td>856.0</td>\n",
       "      <td>3.0</td>\n",
       "      <td>9.0</td>\n",
       "      <td>0.0</td>\n",
       "      <td>1.0</td>\n",
       "      <td>0.0</td>\n",
       "      <td>1.0</td>\n",
       "      <td>2.0</td>\n",
       "      <td>10.0</td>\n",
       "      <td>0.0</td>\n",
       "      <td>1.0</td>\n",
       "      <td>0.0</td>\n",
       "      <td>2.0</td>\n",
       "    </tr>\n",
       "    <tr>\n",
       "      <th>9</th>\n",
       "      <td>ANG MO KIO</td>\n",
       "      <td>3 ROOM</td>\n",
       "      <td>2</td>\n",
       "      <td>67.0</td>\n",
       "      <td>New Generation</td>\n",
       "      <td>1979</td>\n",
       "      <td>61.33</td>\n",
       "      <td>285000.0</td>\n",
       "      <td>2017</td>\n",
       "      <td>1</td>\n",
       "      <td>571 ANG MO KIO AVE 3</td>\n",
       "      <td>1.370055</td>\n",
       "      <td>103.854881</td>\n",
       "      <td>27.18</td>\n",
       "      <td>37.60</td>\n",
       "      <td>54.23</td>\n",
       "      <td>23.15</td>\n",
       "      <td>57.90</td>\n",
       "      <td>17.78</td>\n",
       "      <td>26.07</td>\n",
       "      <td>29.57</td>\n",
       "      <td>14.23</td>\n",
       "      <td>31.23</td>\n",
       "      <td>553.0</td>\n",
       "      <td>0.0</td>\n",
       "      <td>0.0</td>\n",
       "      <td>Ang Mo Kio</td>\n",
       "      <td>8.0</td>\n",
       "      <td>101.0</td>\n",
       "      <td>1.0</td>\n",
       "      <td>719.0</td>\n",
       "      <td>2.0</td>\n",
       "      <td>7.0</td>\n",
       "      <td>0.0</td>\n",
       "      <td>0.0</td>\n",
       "      <td>0.0</td>\n",
       "      <td>0.0</td>\n",
       "      <td>2.0</td>\n",
       "      <td>6.0</td>\n",
       "      <td>0.0</td>\n",
       "      <td>0.0</td>\n",
       "      <td>0.0</td>\n",
       "      <td>0.0</td>\n",
       "    </tr>\n",
       "  </tbody>\n",
       "</table>\n",
       "</div>"
      ],
      "text/plain": [
       "         town flat_type  storey_range  floor_area_sqm      flat_model  \\\n",
       "0  ANG MO KIO    2 ROOM            11            44.0        Improved   \n",
       "1  ANG MO KIO    3 ROOM             2            67.0  New Generation   \n",
       "2  ANG MO KIO    3 ROOM             2            67.0  New Generation   \n",
       "3  ANG MO KIO    3 ROOM             5            68.0  New Generation   \n",
       "4  ANG MO KIO    3 ROOM             2            67.0  New Generation   \n",
       "5  ANG MO KIO    3 ROOM             2            68.0  New Generation   \n",
       "6  ANG MO KIO    3 ROOM             5            68.0  New Generation   \n",
       "7  ANG MO KIO    3 ROOM             5            67.0  New Generation   \n",
       "8  ANG MO KIO    3 ROOM             5            68.0  New Generation   \n",
       "9  ANG MO KIO    3 ROOM             2            67.0  New Generation   \n",
       "\n",
       "   lease_commence_date  remaining_lease  resale_price  sold_year  sold_month  \\\n",
       "0                 1979            61.33      232000.0       2017           1   \n",
       "1                 1978            60.58      250000.0       2017           1   \n",
       "2                 1980            62.42      262000.0       2017           1   \n",
       "3                 1980            62.08      265000.0       2017           1   \n",
       "4                 1980            62.42      265000.0       2017           1   \n",
       "5                 1981            63.00      275000.0       2017           1   \n",
       "6                 1979            61.50      280000.0       2017           1   \n",
       "7                 1976            58.33      285000.0       2017           1   \n",
       "8                 1979            61.50      285000.0       2017           1   \n",
       "9                 1979            61.33      285000.0       2017           1   \n",
       "\n",
       "                 address  latitude   longitude  raffles_place_dist  \\\n",
       "0  406 ANG MO KIO AVE 10  1.362005  103.853880               25.17   \n",
       "1   108 ANG MO KIO AVE 4  1.370966  103.838202               31.97   \n",
       "2   602 ANG MO KIO AVE 5  1.380709  103.835368               33.15   \n",
       "3  465 ANG MO KIO AVE 10  1.366201  103.857201               28.65   \n",
       "4   601 ANG MO KIO AVE 5  1.381041  103.835132               33.80   \n",
       "5   150 ANG MO KIO AVE 5  1.376807  103.842018               34.72   \n",
       "6  447 ANG MO KIO AVE 10  1.367479  103.855967               28.33   \n",
       "7   218 ANG MO KIO AVE 1  1.365119  103.841743               28.07   \n",
       "8  447 ANG MO KIO AVE 10  1.367479  103.855967               28.33   \n",
       "9   571 ANG MO KIO AVE 3  1.370055  103.854881               27.18   \n",
       "\n",
       "   one_north_dist  jurong_east_dist  orchard_dist  changi_dist  \\\n",
       "0           35.18             47.60         21.13        46.20   \n",
       "1           42.38             61.63         27.93        53.00   \n",
       "2           44.85             64.58         29.12        61.28   \n",
       "3           35.95             48.10         24.62        46.57   \n",
       "4           45.50             65.23         29.77        60.55   \n",
       "5           40.47             52.88         30.68        55.97   \n",
       "6           38.02             50.17         24.30        48.63   \n",
       "7           38.80             50.95         24.03        49.42   \n",
       "8           38.02             50.17         24.30        48.63   \n",
       "9           37.60             54.23         23.15        57.90   \n",
       "\n",
       "   raffles_place_drive  one_north_drive  jurong_east_drive  orchard_drive  \\\n",
       "0                18.80            26.20              29.93          15.25   \n",
       "1                20.25            24.30              28.03          16.72   \n",
       "2                23.13            27.08              30.82          19.63   \n",
       "3                18.25            25.70              29.43          14.72   \n",
       "4                23.17            27.12              30.85          18.77   \n",
       "5                21.82            26.23              29.97          16.58   \n",
       "6                18.77            25.60              29.33          15.23   \n",
       "7                18.83            22.65              26.38          15.28   \n",
       "8                18.77            25.60              29.33          15.23   \n",
       "9                17.78            26.07              29.57          14.23   \n",
       "\n",
       "   changi_drive  mrt_dist  near_bus_itc  near_mrt_itc   mrt_station  \\\n",
       "0         32.25     938.0           0.0           0.0    Ang Mo Kio   \n",
       "1         33.72    1315.0           0.0           0.0    Ang Mo Kio   \n",
       "2         36.63    1041.0           0.0           0.0  Yio Chu Kang   \n",
       "3         31.70     885.0           0.0           0.0    Ang Mo Kio   \n",
       "4         35.32    1063.0           0.0           0.0  Yio Chu Kang   \n",
       "5         33.58     643.0           0.0           0.0  Yio Chu Kang   \n",
       "6         32.23     705.0           0.0           0.0    Ang Mo Kio   \n",
       "7         32.28    1031.0           0.0           0.0    Ang Mo Kio   \n",
       "8         32.23     705.0           0.0           0.0    Ang Mo Kio   \n",
       "9         31.23     553.0           0.0           0.0    Ang Mo Kio   \n",
       "\n",
       "   bus_u300m  bus_dist  mall_u1km  mall_dist  pri_u1km  pri_u2km  \\\n",
       "0        5.0      91.0        0.0     1003.0       2.0      11.0   \n",
       "1        5.0     166.0        1.0      870.0       3.0       8.0   \n",
       "2        4.0     129.0        0.0     1530.0       3.0       4.0   \n",
       "3        2.0      69.0        1.0      879.0       3.0       9.0   \n",
       "4        4.0     149.0        0.0     1574.0       2.0       4.0   \n",
       "5        6.0      91.0        1.0      697.0       4.0       6.0   \n",
       "6        4.0     140.0        1.0      856.0       3.0       9.0   \n",
       "7        4.0     132.0        2.0      876.0       1.0       8.0   \n",
       "8        4.0     140.0        1.0      856.0       3.0       9.0   \n",
       "9        8.0     101.0        1.0      719.0       2.0       7.0   \n",
       "\n",
       "   pri_aff_u1km  pri_aff_u2km  pri_elite_u1km  pri_elite_u2km  sec_u1km  \\\n",
       "0           0.0           1.0             0.0             1.0       1.0   \n",
       "1           1.0           2.0             1.0             2.0       5.0   \n",
       "2           1.0           1.0             1.0             1.0       4.0   \n",
       "3           0.0           1.0             0.0             1.0       1.0   \n",
       "4           1.0           1.0             1.0             1.0       4.0   \n",
       "5           1.0           1.0             1.0             1.0       4.0   \n",
       "6           0.0           1.0             0.0             1.0       2.0   \n",
       "7           0.0           2.0             0.0             2.0       2.0   \n",
       "8           0.0           1.0             0.0             1.0       2.0   \n",
       "9           0.0           0.0             0.0             0.0       2.0   \n",
       "\n",
       "   sec_u2km  sec_aff_u1km  sec_aff_u2km  sec_elite_u1km  sec_elite_u2km  \n",
       "0      10.0           0.0           1.0             0.0             2.0  \n",
       "1      12.0           1.0           2.0             2.0             4.0  \n",
       "2       8.0           1.0           1.0             2.0             2.0  \n",
       "3       8.0           0.0           1.0             0.0             2.0  \n",
       "4       8.0           1.0           1.0             2.0             2.0  \n",
       "5       9.0           1.0           1.0             2.0             2.0  \n",
       "6      10.0           0.0           1.0             0.0             2.0  \n",
       "7      12.0           0.0           2.0             0.0             4.0  \n",
       "8      10.0           0.0           1.0             0.0             2.0  \n",
       "9       6.0           0.0           0.0             0.0             0.0  "
      ]
     },
     "execution_count": 12,
     "metadata": {},
     "output_type": "execute_result"
    }
   ],
   "source": [
    "hdb[:10]"
   ]
  },
  {
   "cell_type": "code",
   "execution_count": 55,
   "metadata": {},
   "outputs": [
    {
     "data": {
      "text/html": [
       "<div>\n",
       "<style scoped>\n",
       "    .dataframe tbody tr th:only-of-type {\n",
       "        vertical-align: middle;\n",
       "    }\n",
       "\n",
       "    .dataframe tbody tr th {\n",
       "        vertical-align: top;\n",
       "    }\n",
       "\n",
       "    .dataframe thead th {\n",
       "        text-align: right;\n",
       "    }\n",
       "</style>\n",
       "<table border=\"1\" class=\"dataframe\">\n",
       "  <thead>\n",
       "    <tr style=\"text-align: right;\">\n",
       "      <th></th>\n",
       "      <th>town</th>\n",
       "      <th>flat_type</th>\n",
       "      <th>storey_range</th>\n",
       "      <th>floor_area_sqm</th>\n",
       "      <th>flat_model</th>\n",
       "      <th>lease_commence_date</th>\n",
       "      <th>remaining_lease</th>\n",
       "      <th>resale_price</th>\n",
       "      <th>sold_year</th>\n",
       "      <th>sold_month</th>\n",
       "      <th>address</th>\n",
       "      <th>latitude</th>\n",
       "      <th>longitude</th>\n",
       "      <th>raffles_place_dist</th>\n",
       "      <th>one_north_dist</th>\n",
       "      <th>jurong_east_dist</th>\n",
       "      <th>orchard_dist</th>\n",
       "      <th>changi_dist</th>\n",
       "      <th>raffles_place_drive</th>\n",
       "      <th>one_north_drive</th>\n",
       "      <th>jurong_east_drive</th>\n",
       "      <th>orchard_drive</th>\n",
       "      <th>changi_drive</th>\n",
       "      <th>mrt_dist</th>\n",
       "      <th>near_bus_itc</th>\n",
       "      <th>near_mrt_itc</th>\n",
       "      <th>mrt_station</th>\n",
       "      <th>bus_u300m</th>\n",
       "      <th>bus_dist</th>\n",
       "      <th>mall_u1km</th>\n",
       "      <th>mall_dist</th>\n",
       "      <th>pri_u1km</th>\n",
       "      <th>pri_u2km</th>\n",
       "      <th>pri_aff_u1km</th>\n",
       "      <th>pri_aff_u2km</th>\n",
       "      <th>pri_elite_u1km</th>\n",
       "      <th>pri_elite_u2km</th>\n",
       "      <th>sec_u1km</th>\n",
       "      <th>sec_u2km</th>\n",
       "      <th>sec_aff_u1km</th>\n",
       "      <th>sec_aff_u2km</th>\n",
       "      <th>sec_elite_u1km</th>\n",
       "      <th>sec_elite_u2km</th>\n",
       "    </tr>\n",
       "  </thead>\n",
       "  <tbody>\n",
       "    <tr>\n",
       "      <th>5822</th>\n",
       "      <td>WOODLANDS</td>\n",
       "      <td>4 ROOM</td>\n",
       "      <td>14</td>\n",
       "      <td>94.0</td>\n",
       "      <td>Premium Apartment</td>\n",
       "      <td>2003</td>\n",
       "      <td>84.83</td>\n",
       "      <td>390000.0</td>\n",
       "      <td>2017</td>\n",
       "      <td>4</td>\n",
       "      <td>686A WOODLANDS DR 73</td>\n",
       "      <td>1.442136</td>\n",
       "      <td>103.805620</td>\n",
       "      <td>48.33</td>\n",
       "      <td>56.92</td>\n",
       "      <td>35.88</td>\n",
       "      <td>44.30</td>\n",
       "      <td>69.35</td>\n",
       "      <td>35.13</td>\n",
       "      <td>36.02</td>\n",
       "      <td>31.07</td>\n",
       "      <td>31.60</td>\n",
       "      <td>41.33</td>\n",
       "      <td>552.0</td>\n",
       "      <td>0.0</td>\n",
       "      <td>0.0</td>\n",
       "      <td>Admiralty</td>\n",
       "      <td>7.0</td>\n",
       "      <td>63.0</td>\n",
       "      <td>2.0</td>\n",
       "      <td>494.0</td>\n",
       "      <td>3.0</td>\n",
       "      <td>12.0</td>\n",
       "      <td>0.0</td>\n",
       "      <td>0.0</td>\n",
       "      <td>1.0</td>\n",
       "      <td>1.0</td>\n",
       "      <td>2.0</td>\n",
       "      <td>7.0</td>\n",
       "      <td>0.0</td>\n",
       "      <td>0.0</td>\n",
       "      <td>0.0</td>\n",
       "      <td>0.0</td>\n",
       "    </tr>\n",
       "    <tr>\n",
       "      <th>45544</th>\n",
       "      <td>BUKIT MERAH</td>\n",
       "      <td>4 ROOM</td>\n",
       "      <td>17</td>\n",
       "      <td>75.0</td>\n",
       "      <td>Model A</td>\n",
       "      <td>2002</td>\n",
       "      <td>82.75</td>\n",
       "      <td>685000.0</td>\n",
       "      <td>2019</td>\n",
       "      <td>3</td>\n",
       "      <td>18 CANTONMENT CL</td>\n",
       "      <td>1.273901</td>\n",
       "      <td>103.839417</td>\n",
       "      <td>10.87</td>\n",
       "      <td>33.02</td>\n",
       "      <td>35.53</td>\n",
       "      <td>26.95</td>\n",
       "      <td>44.00</td>\n",
       "      <td>6.08</td>\n",
       "      <td>15.97</td>\n",
       "      <td>24.37</td>\n",
       "      <td>12.73</td>\n",
       "      <td>30.05</td>\n",
       "      <td>860.0</td>\n",
       "      <td>0.0</td>\n",
       "      <td>0.0</td>\n",
       "      <td>Outram Park</td>\n",
       "      <td>7.0</td>\n",
       "      <td>114.0</td>\n",
       "      <td>2.0</td>\n",
       "      <td>457.0</td>\n",
       "      <td>1.0</td>\n",
       "      <td>5.0</td>\n",
       "      <td>0.0</td>\n",
       "      <td>0.0</td>\n",
       "      <td>0.0</td>\n",
       "      <td>0.0</td>\n",
       "      <td>0.0</td>\n",
       "      <td>2.0</td>\n",
       "      <td>0.0</td>\n",
       "      <td>0.0</td>\n",
       "      <td>0.0</td>\n",
       "      <td>0.0</td>\n",
       "    </tr>\n",
       "    <tr>\n",
       "      <th>37303</th>\n",
       "      <td>CHOA CHU KANG</td>\n",
       "      <td>4 ROOM</td>\n",
       "      <td>8</td>\n",
       "      <td>113.0</td>\n",
       "      <td>Premium Apartment</td>\n",
       "      <td>1998</td>\n",
       "      <td>78.25</td>\n",
       "      <td>420000.0</td>\n",
       "      <td>2018</td>\n",
       "      <td>10</td>\n",
       "      <td>634 CHOA CHU KANG NTH 6</td>\n",
       "      <td>1.396609</td>\n",
       "      <td>103.749729</td>\n",
       "      <td>43.70</td>\n",
       "      <td>35.68</td>\n",
       "      <td>21.05</td>\n",
       "      <td>56.13</td>\n",
       "      <td>77.35</td>\n",
       "      <td>34.38</td>\n",
       "      <td>30.08</td>\n",
       "      <td>17.30</td>\n",
       "      <td>26.97</td>\n",
       "      <td>46.50</td>\n",
       "      <td>278.0</td>\n",
       "      <td>0.0</td>\n",
       "      <td>0.0</td>\n",
       "      <td>Yew Tee</td>\n",
       "      <td>5.0</td>\n",
       "      <td>39.0</td>\n",
       "      <td>3.0</td>\n",
       "      <td>334.0</td>\n",
       "      <td>4.0</td>\n",
       "      <td>8.0</td>\n",
       "      <td>0.0</td>\n",
       "      <td>0.0</td>\n",
       "      <td>0.0</td>\n",
       "      <td>1.0</td>\n",
       "      <td>2.0</td>\n",
       "      <td>7.0</td>\n",
       "      <td>0.0</td>\n",
       "      <td>0.0</td>\n",
       "      <td>0.0</td>\n",
       "      <td>0.0</td>\n",
       "    </tr>\n",
       "    <tr>\n",
       "      <th>69137</th>\n",
       "      <td>PASIR RIS</td>\n",
       "      <td>4 ROOM</td>\n",
       "      <td>5</td>\n",
       "      <td>111.0</td>\n",
       "      <td>Model A</td>\n",
       "      <td>1989</td>\n",
       "      <td>68.25</td>\n",
       "      <td>418000.0</td>\n",
       "      <td>2020</td>\n",
       "      <td>3</td>\n",
       "      <td>114 PASIR RIS ST 11</td>\n",
       "      <td>1.368451</td>\n",
       "      <td>103.954961</td>\n",
       "      <td>41.02</td>\n",
       "      <td>63.80</td>\n",
       "      <td>74.27</td>\n",
       "      <td>50.55</td>\n",
       "      <td>26.22</td>\n",
       "      <td>30.95</td>\n",
       "      <td>39.35</td>\n",
       "      <td>41.52</td>\n",
       "      <td>27.88</td>\n",
       "      <td>15.15</td>\n",
       "      <td>793.0</td>\n",
       "      <td>0.0</td>\n",
       "      <td>0.0</td>\n",
       "      <td>Pasir Ris</td>\n",
       "      <td>5.0</td>\n",
       "      <td>71.0</td>\n",
       "      <td>1.0</td>\n",
       "      <td>727.0</td>\n",
       "      <td>3.0</td>\n",
       "      <td>9.0</td>\n",
       "      <td>0.0</td>\n",
       "      <td>0.0</td>\n",
       "      <td>0.0</td>\n",
       "      <td>0.0</td>\n",
       "      <td>5.0</td>\n",
       "      <td>8.0</td>\n",
       "      <td>0.0</td>\n",
       "      <td>0.0</td>\n",
       "      <td>0.0</td>\n",
       "      <td>0.0</td>\n",
       "    </tr>\n",
       "    <tr>\n",
       "      <th>3224</th>\n",
       "      <td>MARINE PARADE</td>\n",
       "      <td>3 ROOM</td>\n",
       "      <td>8</td>\n",
       "      <td>65.0</td>\n",
       "      <td>Improved</td>\n",
       "      <td>1975</td>\n",
       "      <td>57.17</td>\n",
       "      <td>385000.0</td>\n",
       "      <td>2017</td>\n",
       "      <td>3</td>\n",
       "      <td>31 MARINE CRES</td>\n",
       "      <td>1.303706</td>\n",
       "      <td>103.911445</td>\n",
       "      <td>32.42</td>\n",
       "      <td>53.98</td>\n",
       "      <td>66.60</td>\n",
       "      <td>40.98</td>\n",
       "      <td>37.95</td>\n",
       "      <td>14.98</td>\n",
       "      <td>25.88</td>\n",
       "      <td>32.22</td>\n",
       "      <td>18.08</td>\n",
       "      <td>17.55</td>\n",
       "      <td>1923.0</td>\n",
       "      <td>0.0</td>\n",
       "      <td>0.0</td>\n",
       "      <td>Kembangan</td>\n",
       "      <td>5.0</td>\n",
       "      <td>115.0</td>\n",
       "      <td>5.0</td>\n",
       "      <td>722.0</td>\n",
       "      <td>2.0</td>\n",
       "      <td>5.0</td>\n",
       "      <td>0.0</td>\n",
       "      <td>0.0</td>\n",
       "      <td>0.0</td>\n",
       "      <td>0.0</td>\n",
       "      <td>2.0</td>\n",
       "      <td>6.0</td>\n",
       "      <td>0.0</td>\n",
       "      <td>1.0</td>\n",
       "      <td>0.0</td>\n",
       "      <td>1.0</td>\n",
       "    </tr>\n",
       "  </tbody>\n",
       "</table>\n",
       "</div>"
      ],
      "text/plain": [
       "                town flat_type  storey_range  floor_area_sqm  \\\n",
       "5822       WOODLANDS    4 ROOM            14            94.0   \n",
       "45544    BUKIT MERAH    4 ROOM            17            75.0   \n",
       "37303  CHOA CHU KANG    4 ROOM             8           113.0   \n",
       "69137      PASIR RIS    4 ROOM             5           111.0   \n",
       "3224   MARINE PARADE    3 ROOM             8            65.0   \n",
       "\n",
       "              flat_model  lease_commence_date  remaining_lease  resale_price  \\\n",
       "5822   Premium Apartment                 2003            84.83      390000.0   \n",
       "45544            Model A                 2002            82.75      685000.0   \n",
       "37303  Premium Apartment                 1998            78.25      420000.0   \n",
       "69137            Model A                 1989            68.25      418000.0   \n",
       "3224            Improved                 1975            57.17      385000.0   \n",
       "\n",
       "       sold_year  sold_month                  address  latitude   longitude  \\\n",
       "5822        2017           4     686A WOODLANDS DR 73  1.442136  103.805620   \n",
       "45544       2019           3         18 CANTONMENT CL  1.273901  103.839417   \n",
       "37303       2018          10  634 CHOA CHU KANG NTH 6  1.396609  103.749729   \n",
       "69137       2020           3      114 PASIR RIS ST 11  1.368451  103.954961   \n",
       "3224        2017           3           31 MARINE CRES  1.303706  103.911445   \n",
       "\n",
       "       raffles_place_dist  one_north_dist  jurong_east_dist  orchard_dist  \\\n",
       "5822                48.33           56.92             35.88         44.30   \n",
       "45544               10.87           33.02             35.53         26.95   \n",
       "37303               43.70           35.68             21.05         56.13   \n",
       "69137               41.02           63.80             74.27         50.55   \n",
       "3224                32.42           53.98             66.60         40.98   \n",
       "\n",
       "       changi_dist  raffles_place_drive  one_north_drive  jurong_east_drive  \\\n",
       "5822         69.35                35.13            36.02              31.07   \n",
       "45544        44.00                 6.08            15.97              24.37   \n",
       "37303        77.35                34.38            30.08              17.30   \n",
       "69137        26.22                30.95            39.35              41.52   \n",
       "3224         37.95                14.98            25.88              32.22   \n",
       "\n",
       "       orchard_drive  changi_drive  mrt_dist  near_bus_itc  near_mrt_itc  \\\n",
       "5822           31.60         41.33     552.0           0.0           0.0   \n",
       "45544          12.73         30.05     860.0           0.0           0.0   \n",
       "37303          26.97         46.50     278.0           0.0           0.0   \n",
       "69137          27.88         15.15     793.0           0.0           0.0   \n",
       "3224           18.08         17.55    1923.0           0.0           0.0   \n",
       "\n",
       "       mrt_station  bus_u300m  bus_dist  mall_u1km  mall_dist  pri_u1km  \\\n",
       "5822     Admiralty        7.0      63.0        2.0      494.0       3.0   \n",
       "45544  Outram Park        7.0     114.0        2.0      457.0       1.0   \n",
       "37303      Yew Tee        5.0      39.0        3.0      334.0       4.0   \n",
       "69137    Pasir Ris        5.0      71.0        1.0      727.0       3.0   \n",
       "3224     Kembangan        5.0     115.0        5.0      722.0       2.0   \n",
       "\n",
       "       pri_u2km  pri_aff_u1km  pri_aff_u2km  pri_elite_u1km  pri_elite_u2km  \\\n",
       "5822       12.0           0.0           0.0             1.0             1.0   \n",
       "45544       5.0           0.0           0.0             0.0             0.0   \n",
       "37303       8.0           0.0           0.0             0.0             1.0   \n",
       "69137       9.0           0.0           0.0             0.0             0.0   \n",
       "3224        5.0           0.0           0.0             0.0             0.0   \n",
       "\n",
       "       sec_u1km  sec_u2km  sec_aff_u1km  sec_aff_u2km  sec_elite_u1km  \\\n",
       "5822        2.0       7.0           0.0           0.0             0.0   \n",
       "45544       0.0       2.0           0.0           0.0             0.0   \n",
       "37303       2.0       7.0           0.0           0.0             0.0   \n",
       "69137       5.0       8.0           0.0           0.0             0.0   \n",
       "3224        2.0       6.0           0.0           1.0             0.0   \n",
       "\n",
       "       sec_elite_u2km  \n",
       "5822              0.0  \n",
       "45544             0.0  \n",
       "37303             0.0  \n",
       "69137             0.0  \n",
       "3224              1.0  "
      ]
     },
     "execution_count": 55,
     "metadata": {},
     "output_type": "execute_result"
    }
   ],
   "source": [
    "hdb.sample(5)"
   ]
  },
  {
   "cell_type": "code",
   "execution_count": 56,
   "metadata": {},
   "outputs": [],
   "source": [
    "hdb['sold_year'] = hdb['sold_year'] - 2016"
   ]
  },
  {
   "cell_type": "code",
   "execution_count": 57,
   "metadata": {},
   "outputs": [
    {
     "data": {
      "text/plain": [
       "Index(['town', 'flat_type', 'storey_range', 'floor_area_sqm', 'flat_model',\n",
       "       'lease_commence_date', 'remaining_lease', 'resale_price', 'sold_year',\n",
       "       'sold_month', 'address', 'latitude', 'longitude', 'raffles_place_dist',\n",
       "       'one_north_dist', 'jurong_east_dist', 'orchard_dist', 'changi_dist',\n",
       "       'raffles_place_drive', 'one_north_drive', 'jurong_east_drive',\n",
       "       'orchard_drive', 'changi_drive', 'mrt_dist', 'near_bus_itc',\n",
       "       'near_mrt_itc', 'mrt_station', 'bus_u300m', 'bus_dist', 'mall_u1km',\n",
       "       'mall_dist', 'pri_u1km', 'pri_u2km', 'pri_aff_u1km', 'pri_aff_u2km',\n",
       "       'pri_elite_u1km', 'pri_elite_u2km', 'sec_u1km', 'sec_u2km',\n",
       "       'sec_aff_u1km', 'sec_aff_u2km', 'sec_elite_u1km', 'sec_elite_u2km'],\n",
       "      dtype='object')"
      ]
     },
     "execution_count": 57,
     "metadata": {},
     "output_type": "execute_result"
    }
   ],
   "source": [
    "hdb.columns"
   ]
  },
  {
   "cell_type": "code",
   "execution_count": 58,
   "metadata": {},
   "outputs": [],
   "source": [
    "hdb.drop(['address', 'flat_model', 'latitude', 'longitude', 'lease_commence_date', 'mrt_station'],\n",
    "         axis=1, inplace=True)"
   ]
  },
  {
   "cell_type": "code",
   "execution_count": 59,
   "metadata": {},
   "outputs": [
    {
     "data": {
      "text/plain": [
       "Index(['town', 'flat_type', 'storey_range', 'floor_area_sqm',\n",
       "       'remaining_lease', 'resale_price', 'sold_year', 'sold_month',\n",
       "       'raffles_place_dist', 'one_north_dist', 'jurong_east_dist',\n",
       "       'orchard_dist', 'changi_dist', 'raffles_place_drive', 'one_north_drive',\n",
       "       'jurong_east_drive', 'orchard_drive', 'changi_drive', 'mrt_dist',\n",
       "       'near_bus_itc', 'near_mrt_itc', 'bus_u300m', 'bus_dist', 'mall_u1km',\n",
       "       'mall_dist', 'pri_u1km', 'pri_u2km', 'pri_aff_u1km', 'pri_aff_u2km',\n",
       "       'pri_elite_u1km', 'pri_elite_u2km', 'sec_u1km', 'sec_u2km',\n",
       "       'sec_aff_u1km', 'sec_aff_u2km', 'sec_elite_u1km', 'sec_elite_u2km'],\n",
       "      dtype='object')"
      ]
     },
     "execution_count": 59,
     "metadata": {},
     "output_type": "execute_result"
    }
   ],
   "source": [
    "hdb.columns"
   ]
  },
  {
   "cell_type": "code",
   "execution_count": 60,
   "metadata": {},
   "outputs": [],
   "source": [
    "hdb.drop(['raffles_place_drive', 'one_north_drive', 'jurong_east_drive', 'orchard_drive', 'changi_drive'], axis=1, inplace=True)"
   ]
  },
  {
   "cell_type": "code",
   "execution_count": 61,
   "metadata": {},
   "outputs": [
    {
     "data": {
      "image/png": "[encoded data removed]",
      "text/plain": [
       "<Figure size 1080x1080 with 2 Axes>"
      ]
     },
     "metadata": {
      "needs_background": "light"
     },
     "output_type": "display_data"
    }
   ],
   "source": [
    "# Plotting correlation heatmap\n",
    "corr = round(hdb.corr(),2)\n",
    "plt.figure(figsize=(15,15))\n",
    "mask = np.triu(np.ones_like(corr, dtype=np.bool))\n",
    "cmap = sns.diverging_palette(220, 10, as_cmap=True)\n",
    "sns.heatmap(corr, square=True, annot=False, mask=mask, cmap=cmap, \n",
    "            linewidths=.5, cbar_kws={'shrink':0.5})\n",
    "plt.title('Correlation Heatmap Plot of All Numerical Features')\n",
    "plt.show()"
   ]
  },
  {
   "cell_type": "code",
   "execution_count": 62,
   "metadata": {},
   "outputs": [
    {
     "name": "stdout",
     "output_type": "stream",
     "text": [
      "Collinear Columns to drop:  {'sec_elite_u1km', 'sec_elite_u2km'}\n"
     ]
    }
   ],
   "source": [
    "correlated_features = set()\n",
    "\n",
    "for i in range(len(corr.columns)):\n",
    "    for j in range(i):\n",
    "        if abs(corr.iloc[i, j]) > 0.8:\n",
    "            colname = corr.columns[i]\n",
    "            correlated_features.add(colname)\n",
    "\n",
    "print(\"Collinear Columns to drop: \", correlated_features)"
   ]
  },
  {
   "cell_type": "code",
   "execution_count": 63,
   "metadata": {},
   "outputs": [],
   "source": [
    "X = hdb.drop('resale_price', axis=1)\n",
    "y = hdb['resale_price']"
   ]
  },
  {
   "cell_type": "code",
   "execution_count": 64,
   "metadata": {},
   "outputs": [],
   "source": [
    "X.drop(correlated_features, axis=1, inplace=True)"
   ]
  },
  {
   "cell_type": "code",
   "execution_count": 65,
   "metadata": {},
   "outputs": [],
   "source": [
    "X.drop(['raffles_place_dist', 'one_north_dist', 'jurong_east_dist', 'orchard_dist', 'changi_dist'], axis=1, inplace=True)"
   ]
  },
  {
   "cell_type": "code",
   "execution_count": 66,
   "metadata": {},
   "outputs": [],
   "source": [
    "X.drop(['flat_type'], axis=1, inplace=True)"
   ]
  },
  {
   "cell_type": "code",
   "execution_count": 67,
   "metadata": {},
   "outputs": [],
   "source": [
    "X_train, X_test, y_train, y_test = train_test_split(X, y, test_size=0.2, shuffle=False, random_state=42)"
   ]
  },
  {
   "cell_type": "code",
   "execution_count": 71,
   "metadata": {},
   "outputs": [
    {
     "data": {
      "text/plain": [
       "23"
      ]
     },
     "execution_count": 71,
     "metadata": {},
     "output_type": "execute_result"
    }
   ],
   "source": [
    "len(X_train.columns)"
   ]
  },
  {
   "cell_type": "code",
   "execution_count": 72,
   "metadata": {},
   "outputs": [
    {
     "data": {
      "text/plain": [
       "Index(['town', 'storey_range', 'floor_area_sqm', 'remaining_lease',\n",
       "       'sold_year', 'sold_month', 'mrt_dist', 'near_bus_itc', 'near_mrt_itc',\n",
       "       'bus_u300m', 'bus_dist', 'mall_u1km', 'mall_dist', 'pri_u1km',\n",
       "       'pri_u2km', 'pri_aff_u1km', 'pri_aff_u2km', 'pri_elite_u1km',\n",
       "       'pri_elite_u2km', 'sec_u1km', 'sec_u2km', 'sec_aff_u1km',\n",
       "       'sec_aff_u2km'],\n",
       "      dtype='object')"
      ]
     },
     "execution_count": 72,
     "metadata": {},
     "output_type": "execute_result"
    }
   ],
   "source": [
    "X_train.columns"
   ]
  },
  {
   "cell_type": "code",
   "execution_count": 68,
   "metadata": {},
   "outputs": [],
   "source": [
    "X_train_new = pd.get_dummies(X_train, drop_first=True)"
   ]
  },
  {
   "cell_type": "code",
   "execution_count": 69,
   "metadata": {},
   "outputs": [],
   "source": [
    "X_test_new = pd.get_dummies(X_test, drop_first=True)"
   ]
  },
  {
   "cell_type": "code",
   "execution_count": 70,
   "metadata": {},
   "outputs": [],
   "source": [
    "ss = StandardScaler()\n",
    "X_train_sc = ss.fit_transform(X_train_new)\n",
    "X_test_sc = ss.transform(X_test_new)"
   ]
  },
  {
   "cell_type": "code",
   "execution_count": 207,
   "metadata": {},
   "outputs": [
    {
     "data": {
      "text/plain": [
       "['./Deployment/scaler.pkl']"
      ]
     },
     "execution_count": 207,
     "metadata": {},
     "output_type": "execute_result"
    }
   ],
   "source": [
    "joblib.dump(ss, './Deployment/scaler.pkl')"
   ]
  },
  {
   "cell_type": "code",
   "execution_count": 199,
   "metadata": {},
   "outputs": [],
   "source": [
    "# selector = RFECV(LinearRegression(), n_jobs=-1, cv=10)"
   ]
  },
  {
   "cell_type": "code",
   "execution_count": 60,
   "metadata": {},
   "outputs": [],
   "source": [
    "# selector.fit(X_train_sc, y_train)"
   ]
  },
  {
   "cell_type": "code",
   "execution_count": 61,
   "metadata": {},
   "outputs": [],
   "source": [
    "# X_train_sc = selector.transform(X_train_sc)\n",
    "# X_test_sc = selector.transform(X_test_sc)"
   ]
  },
  {
   "cell_type": "markdown",
   "metadata": {},
   "source": [
    "## REGRESSION"
   ]
  },
  {
   "cell_type": "code",
   "execution_count": 24,
   "metadata": {},
   "outputs": [
    {
     "data": {
      "text/plain": [
       "array([0.8723561 , 0.88017166, 0.88203761, 0.8861458 , 0.89050023,\n",
       "       0.88297853, 0.88300722, 0.87418712, 0.87236961, 0.87647924])"
      ]
     },
     "execution_count": 24,
     "metadata": {},
     "output_type": "execute_result"
    }
   ],
   "source": [
    "lr = LinearRegression()\n",
    "lr.fit(X_train_sc, y_train)\n",
    "cross_val_score(lr, X_train_sc, y_train, cv=10, n_jobs=-1)"
   ]
  },
  {
   "cell_type": "code",
   "execution_count": 25,
   "metadata": {},
   "outputs": [
    {
     "data": {
      "text/plain": [
       "0.8800233126128567"
      ]
     },
     "execution_count": 25,
     "metadata": {},
     "output_type": "execute_result"
    }
   ],
   "source": [
    "cross_val_score(lr, X_train_sc, y_train, cv=10, n_jobs=-1).mean()"
   ]
  },
  {
   "cell_type": "code",
   "execution_count": 26,
   "metadata": {},
   "outputs": [
    {
     "data": {
      "text/plain": [
       "0.8680778955165622"
      ]
     },
     "execution_count": 26,
     "metadata": {},
     "output_type": "execute_result"
    }
   ],
   "source": [
    "lr.score(X_test_sc, y_test)"
   ]
  },
  {
   "cell_type": "code",
   "execution_count": 27,
   "metadata": {
    "scrolled": true
   },
   "outputs": [
    {
     "data": {
      "text/plain": [
       "54587.751089646445"
      ]
     },
     "execution_count": 27,
     "metadata": {},
     "output_type": "execute_result"
    }
   ],
   "source": [
    "mean_squared_error(y_test, lr.predict(X_test_sc), squared=False)"
   ]
  },
  {
   "cell_type": "code",
   "execution_count": 28,
   "metadata": {},
   "outputs": [
    {
     "data": {
      "text/plain": [
       "40985.03000594887"
      ]
     },
     "execution_count": 28,
     "metadata": {},
     "output_type": "execute_result"
    }
   ],
   "source": [
    "mean_absolute_error(y_test, lr.predict(X_test_sc))"
   ]
  },
  {
   "cell_type": "code",
   "execution_count": 29,
   "metadata": {},
   "outputs": [
    {
     "data": {
      "text/plain": [
       "0.0934879610149181"
      ]
     },
     "execution_count": 29,
     "metadata": {},
     "output_type": "execute_result"
    }
   ],
   "source": [
    "mean_absolute_error(y_test, lr.predict(X_test_sc)) / hdb.resale_price.mean()"
   ]
  },
  {
   "cell_type": "markdown",
   "metadata": {},
   "source": [
    "## LASSO"
   ]
  },
  {
   "cell_type": "code",
   "execution_count": 30,
   "metadata": {},
   "outputs": [
    {
     "data": {
      "text/plain": [
       "LassoCV(alphas=array([ 0.1       ,  0.61025641,  1.12051282,  1.63076923,  2.14102564,\n",
       "        2.65128205,  3.16153846,  3.67179487,  4.18205128,  4.69230769,\n",
       "        5.2025641 ,  5.71282051,  6.22307692,  6.73333333,  7.24358974,\n",
       "        7.75384615,  8.26410256,  8.77435897,  9.28461538,  9.79487179,\n",
       "       10.30512821, 10.81538462, 11.32564103, 11.83589744, 12.34615385,\n",
       "       12.85641026, 13.36666667, 13.87692308, 14.38717949, 14.8974359 ,\n",
       "       15.40769231, 15.91794872, 16.42820513, 16.93846154, 17.44871795,\n",
       "       17.95897436, 18.46923077, 18.97948718, 19.48974359, 20.        ]),\n",
       "        copy_X=True, cv=None, eps=0.001, fit_intercept=True, max_iter=100000,\n",
       "        n_alphas=100, n_jobs=-1, normalize=False, positive=False,\n",
       "        precompute='auto', random_state=42, selection='cyclic', tol=0.0001,\n",
       "        verbose=False)"
      ]
     },
     "execution_count": 30,
     "metadata": {},
     "output_type": "execute_result"
    }
   ],
   "source": [
    "from sklearn.linear_model import LassoCV\n",
    "\n",
    "lasso = LassoCV(alphas=np.linspace(0.1, 20, 40), random_state=42, n_jobs=-1, max_iter=100_000)\n",
    "lasso.fit(X_train_sc, y_train)"
   ]
  },
  {
   "cell_type": "code",
   "execution_count": 31,
   "metadata": {},
   "outputs": [
    {
     "data": {
      "text/plain": [
       "array([0.87473117, 0.8837107 , 0.8866885 , 0.87860608, 0.87330765])"
      ]
     },
     "execution_count": 31,
     "metadata": {},
     "output_type": "execute_result"
    }
   ],
   "source": [
    "cross_val_score(lasso, X_train_sc, y_train)"
   ]
  },
  {
   "cell_type": "code",
   "execution_count": 32,
   "metadata": {},
   "outputs": [
    {
     "data": {
      "text/plain": [
       "0.8681058215514962"
      ]
     },
     "execution_count": 32,
     "metadata": {},
     "output_type": "execute_result"
    }
   ],
   "source": [
    "lasso.score(X_test_sc, y_test)"
   ]
  },
  {
   "cell_type": "code",
   "execution_count": 33,
   "metadata": {},
   "outputs": [
    {
     "data": {
      "text/plain": [
       "19.48974358974359"
      ]
     },
     "execution_count": 33,
     "metadata": {},
     "output_type": "execute_result"
    }
   ],
   "source": [
    "lasso.alpha_"
   ]
  },
  {
   "cell_type": "code",
   "execution_count": 34,
   "metadata": {},
   "outputs": [
    {
     "data": {
      "text/plain": [
       "54581.97305823584"
      ]
     },
     "execution_count": 34,
     "metadata": {},
     "output_type": "execute_result"
    }
   ],
   "source": [
    "mean_squared_error(y_test, lasso.predict(X_test_sc), squared=False)"
   ]
  },
  {
   "cell_type": "code",
   "execution_count": 35,
   "metadata": {},
   "outputs": [
    {
     "data": {
      "text/plain": [
       "40967.72239919619"
      ]
     },
     "execution_count": 35,
     "metadata": {},
     "output_type": "execute_result"
    }
   ],
   "source": [
    "mean_absolute_error(y_test, lasso.predict(X_test_sc))"
   ]
  },
  {
   "cell_type": "code",
   "execution_count": 36,
   "metadata": {},
   "outputs": [],
   "source": [
    "pd.set_option('max_rows', 999)"
   ]
  },
  {
   "cell_type": "code",
   "execution_count": 118,
   "metadata": {},
   "outputs": [
    {
     "data": {
      "text/plain": [
       "town_WOODLANDS          -45277.401424\n",
       "town_CHOA CHU KANG      -41509.778395\n",
       "town_SEMBAWANG          -33419.329665\n",
       "town_JURONG WEST        -33138.245114\n",
       "mrt_dist                -27623.541235\n",
       "town_BUKIT PANJANG      -24851.484816\n",
       "pri_u2km                -24257.141613\n",
       "town_SENGKANG           -23887.699877\n",
       "town_YISHUN             -21326.293338\n",
       "town_PUNGGOL            -18265.826777\n",
       "town_BUKIT BATOK        -16741.509450\n",
       "town_PASIR RIS          -16729.457810\n",
       "town_HOUGANG            -13124.810254\n",
       "town_TAMPINES           -10260.657131\n",
       "pri_u1km                 -9960.454672\n",
       "town_JURONG EAST         -9415.128993\n",
       "sec_aff_u2km             -7793.167375\n",
       "mall_dist                -6310.208900\n",
       "town_BEDOK               -3445.926974\n",
       "pri_elite_u1km            -854.990500\n",
       "sec_u1km                  -820.286372\n",
       "pri_aff_u1km              -501.711225\n",
       "sold_year                 -385.003069\n",
       "bus_u300m                 -251.548702\n",
       "bus_dist                   -34.782517\n",
       "pri_aff_u2km                39.578126\n",
       "sold_month                  70.604560\n",
       "near_mrt_itc               357.821485\n",
       "town_SERANGOON            1605.748095\n",
       "sec_aff_u1km              2047.119269\n",
       "town_CLEMENTI             2115.474875\n",
       "mall_u1km                 2946.152232\n",
       "pri_elite_u2km            4525.346864\n",
       "town_GEYLANG              4682.954282\n",
       "town_BUKIT TIMAH          8975.124383\n",
       "near_bus_itc              9160.624130\n",
       "town_KALLANG/WHAMPOA     11343.779165\n",
       "town_CENTRAL AREA        11904.745225\n",
       "town_TOA PAYOH           12487.156775\n",
       "town_QUEENSTOWN          13051.204774\n",
       "sec_u2km                 14535.656076\n",
       "town_BISHAN              17650.488440\n",
       "town_MARINE PARADE       18020.990460\n",
       "town_BUKIT MERAH         20719.092983\n",
       "storey_range             26643.645466\n",
       "remaining_lease          60813.926492\n",
       "floor_area_sqm          107350.466356\n",
       "dtype: float64"
      ]
     },
     "execution_count": 118,
     "metadata": {},
     "output_type": "execute_result"
    }
   ],
   "source": [
    "pd.Series(lasso.coef_, X_train_new.columns).sort_values()"
   ]
  },
  {
   "cell_type": "code",
   "execution_count": 147,
   "metadata": {},
   "outputs": [],
   "source": [
    "import joblib"
   ]
  },
  {
   "cell_type": "code",
   "execution_count": 149,
   "metadata": {},
   "outputs": [
    {
     "data": {
      "text/plain": [
       "'0.14.1'"
      ]
     },
     "execution_count": 149,
     "metadata": {},
     "output_type": "execute_result"
    }
   ],
   "source": [
    "joblib.__version__"
   ]
  },
  {
   "cell_type": "code",
   "execution_count": 151,
   "metadata": {},
   "outputs": [],
   "source": [
    "import sklearn"
   ]
  },
  {
   "cell_type": "code",
   "execution_count": 152,
   "metadata": {},
   "outputs": [
    {
     "data": {
      "text/plain": [
       "'0.22.1'"
      ]
     },
     "execution_count": 152,
     "metadata": {},
     "output_type": "execute_result"
    }
   ],
   "source": [
    "sklearn.__version__"
   ]
  },
  {
   "cell_type": "code",
   "execution_count": 148,
   "metadata": {
    "scrolled": true
   },
   "outputs": [
    {
     "data": {
      "text/plain": [
       "['./Deployment/lasso.pkl']"
      ]
     },
     "execution_count": 148,
     "metadata": {},
     "output_type": "execute_result"
    }
   ],
   "source": [
    "joblib.dump(lasso, './Deployment/lasso.pkl')"
   ]
  },
  {
   "cell_type": "code",
   "execution_count": 126,
   "metadata": {},
   "outputs": [
    {
     "data": {
      "text/plain": [
       "Index(['town', 'storey_range', 'floor_area_sqm', 'remaining_lease',\n",
       "       'sold_year', 'sold_month', 'mrt_dist', 'near_bus_itc', 'near_mrt_itc',\n",
       "       'bus_u300m', 'bus_dist', 'mall_u1km', 'mall_dist', 'pri_u1km',\n",
       "       'pri_u2km', 'pri_aff_u1km', 'pri_aff_u2km', 'pri_elite_u1km',\n",
       "       'pri_elite_u2km', 'sec_u1km', 'sec_u2km', 'sec_aff_u1km',\n",
       "       'sec_aff_u2km'],\n",
       "      dtype='object')"
      ]
     },
     "execution_count": 126,
     "metadata": {},
     "output_type": "execute_result"
    }
   ],
   "source": [
    "X.columns"
   ]
  },
  {
   "cell_type": "markdown",
   "metadata": {},
   "source": [
    "## CART"
   ]
  },
  {
   "cell_type": "code",
   "execution_count": null,
   "metadata": {},
   "outputs": [],
   "source": [
    "rf = RandomForestRegressor(n_jobs=-1, random_state=42)\n",
    "rf_params = {\n",
    "    'n_estimators': [],\n",
    "    'max_depth': [],\n",
    "    'min_samples_split': []\n",
    "}"
   ]
  },
  {
   "cell_type": "code",
   "execution_count": null,
   "metadata": {},
   "outputs": [],
   "source": []
  }
 ],
 "metadata": {
  "kernelspec": {
   "display_name": "Python 3",
   "language": "python",
   "name": "python3"
  },
  "language_info": {
   "codemirror_mode": {
    "name": "ipython",
    "version": 3
   },
   "file_extension": ".py",
   "mimetype": "text/x-python",
   "name": "python",
   "nbconvert_exporter": "python",
   "pygments_lexer": "ipython3",
   "version": "3.7.4"
  }
 },
 "nbformat": 4,
 "nbformat_minor": 4
}
